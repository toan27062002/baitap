{
  "nbformat": 4,
  "nbformat_minor": 0,
  "metadata": {
    "colab": {
      "name": "Untitled6.ipynb",
      "provenance": [],
      "authorship_tag": "ABX9TyMFVGXChFq6kfNAgtGaF9MK",
      "include_colab_link": true
    },
    "kernelspec": {
      "name": "python3",
      "display_name": "Python 3"
    }
  },
  "cells": [
    {
      "cell_type": "markdown",
      "metadata": {
        "id": "view-in-github",
        "colab_type": "text"
      },
      "source": [
        "<a href=\"https://colab.research.google.com/github/toan27062002/baitap/blob/main/12-1.ipynb\" target=\"_parent\"><img src=\"https://colab.research.google.com/assets/colab-badge.svg\" alt=\"Open In Colab\"/></a>"
      ]
    },
    {
      "cell_type": "code",
      "metadata": {
        "id": "BA16oebeYtXV"
      },
      "source": [
        "import random\n",
        "list_2=[]\n",
        "while True:\n",
        "  n=int(input(\"số phần tử trong list: \"))\n",
        "  if n in range(50,1001):\n",
        "    break\n",
        "  else:\n",
        "    print(\" hãy nhập lại !!!\")\n",
        "list_1=random.sample(range(-1000,1001 ),n)\n",
        "for i in range(n+1): \n",
        "  a=round(random.uniform(-1000,1000),1)\n",
        "  list_2.append(a)\n",
        "  print(i)\n",
        "print(\"list_1: \",list_1)\n",
        "print(\"list_2: \",list_2)\n",
        "\n"
      ],
      "execution_count": null,
      "outputs": []
    },
    {
      "cell_type": "code",
      "metadata": {
        "id": "CMp9Dv0WemgD"
      },
      "source": [
        "\n"
      ],
      "execution_count": null,
      "outputs": []
    }
  ]
}