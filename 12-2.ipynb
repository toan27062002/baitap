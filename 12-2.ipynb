{
  "nbformat": 4,
  "nbformat_minor": 0,
  "metadata": {
    "colab": {
      "name": "Untitled7.ipynb",
      "provenance": [],
      "authorship_tag": "ABX9TyM4EB8XnzpLSrZ5MTibu+X9",
      "include_colab_link": true
    },
    "kernelspec": {
      "name": "python3",
      "display_name": "Python 3"
    }
  },
  "cells": [
    {
      "cell_type": "markdown",
      "metadata": {
        "id": "view-in-github",
        "colab_type": "text"
      },
      "source": [
        "<a href=\"https://colab.research.google.com/github/toan27062002/baitap/blob/main/12-2.ipynb\" target=\"_parent\"><img src=\"https://colab.research.google.com/assets/colab-badge.svg\" alt=\"Open In Colab\"/></a>"
      ]
    },
    {
      "cell_type": "code",
      "metadata": {
        "colab": {
          "base_uri": "https://localhost:8080/"
        },
        "id": "rvVGU7XaKjKT",
        "outputId": "16fb8981-5ab1-4bcf-ace7-3f6786b80869"
      },
      "source": [
        "import random, string\n",
        "dic={}\n",
        "k=random.randint(1,30)# so phan tu trong dict\n",
        "for j in range(k):\n",
        "    n = random.randint(1,12)\n",
        "    name = random.choice(string.ascii_letters)\n",
        "    for i in range(n):\n",
        "        name += random.choice(string.ascii_lowercase)\n",
        "        name=str.capitalize (name)\n",
        "    age = random.randint(0, 125)\n",
        "    dic[name]=str(age)\n",
        "    \n",
        "    \n",
        "print('Dictionary vừa tạo:',dic)"
      ],
      "execution_count": 31,
      "outputs": [
        {
          "output_type": "stream",
          "text": [
            "Dictionary vừa tạo: {'Ujaaksblblne': '66', 'Mpcyer': '58', 'Zenfdpenisu': '31'}\n"
          ],
          "name": "stdout"
        }
      ]
    },
    {
      "cell_type": "code",
      "metadata": {
        "colab": {
          "base_uri": "https://localhost:8080/",
          "height": 35
        },
        "id": "49zWz-oeYvcO",
        "outputId": "50349028-d1e0-400b-c580-39079d706e64"
      },
      "source": [
        "'2'"
      ],
      "execution_count": 19,
      "outputs": [
        {
          "output_type": "execute_result",
          "data": {
            "application/vnd.google.colaboratory.intrinsic+json": {
              "type": "string"
            },
            "text/plain": [
              "'2'"
            ]
          },
          "metadata": {
            "tags": []
          },
          "execution_count": 19
        }
      ]
    }
  ]
}