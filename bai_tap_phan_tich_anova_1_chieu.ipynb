{
  "nbformat": 4,
  "nbformat_minor": 0,
  "metadata": {
    "kernelspec": {
      "display_name": "Python 3",
      "language": "python",
      "name": "python3"
    },
    "language_info": {
      "codemirror_mode": {
        "name": "ipython",
        "version": 3
      },
      "file_extension": ".py",
      "mimetype": "text/x-python",
      "name": "python",
      "nbconvert_exporter": "python",
      "pygments_lexer": "ipython3",
      "version": "3.7.3"
    },
    "colab": {
      "name": "bai-tap-phan-tich-anova-1-chieu.ipynb",
      "provenance": [],
      "include_colab_link": true
    }
  },
  "cells": [
    {
      "cell_type": "markdown",
      "metadata": {
        "id": "view-in-github",
        "colab_type": "text"
      },
      "source": [
        "<a href=\"https://colab.research.google.com/github/toan27062002/baitap/blob/main/bai_tap_phan_tich_anova_1_chieu.ipynb\" target=\"_parent\"><img src=\"https://colab.research.google.com/assets/colab-badge.svg\" alt=\"Open In Colab\"/></a>"
      ]
    },
    {
      "cell_type": "markdown",
      "metadata": {
        "id": "gNAlSCj20kJz"
      },
      "source": [
        "Hãy sử dụng các tập dữ liệu sau và tiến hành phân tích ANOVA 1 chiều\n",
        "\n",
        "- [Excavation Depth and Archaeology](https://college.cengage.com/mathematics/brase/understandable_statistics/7e/students/datasets/owan/frames/owan01.html)\n",
        "- [Apple Orchard Experiment](https://college.cengage.com/mathematics/brase/understandable_statistics/7e/students/datasets/owan/frames/owan02.html)\n",
        "- [Red Dye Number 40](https://college.cengage.com/mathematics/brase/understandable_statistics/7e/students/datasets/owan/frames/owan03.html)\n",
        "- [Business Startup Costs](https://college.cengage.com/mathematics/brase/understandable_statistics/7e/students/datasets/owan/frames/owan04.html)\n",
        "- [Weights of Football Players](https://college.cengage.com/mathematics/brase/understandable_statistics/7e/students/datasets/owan/frames/owan05.html)"
      ]
    },
    {
      "cell_type": "code",
      "metadata": {
        "id": "3OXiNS_X0kJ7"
      },
      "source": [
        "#Code here"
      ],
      "execution_count": 188,
      "outputs": []
    },
    {
      "cell_type": "code",
      "metadata": {
        "id": "pWED6RSy1je9"
      },
      "source": [
        "import numpy as np\n",
        "import pandas as pd\n",
        "from scipy import stats as st\n",
        "from scipy.stats import f_oneway"
      ],
      "execution_count": 189,
      "outputs": []
    },
    {
      "cell_type": "code",
      "metadata": {
        "id": "FiTn41fn6SOn"
      },
      "source": [
        "# kiểm định phân phối chuẩn \n",
        "def shapiro_test(sample):\n",
        "    statistic, p_value = st.shapiro(sample)\n",
        "    if (statistic > 0) and (p_value > .05):\n",
        "        print('Mẫu tuân theo phân phối chuẩn.')\n",
        "    else:\n",
        "        print('Mẫu không tuân theo phân phối chuẩn.')"
      ],
      "execution_count": 190,
      "outputs": []
    },
    {
      "cell_type": "code",
      "metadata": {
        "id": "WeZvmLAR8bg7"
      },
      "source": [
        "# kiểm định phương sai\n",
        "def bartlett_test_4(c1, c2, c3, c4):\n",
        "    bartlett_test = st.bartlett(c1, c2, c3, c4)\n",
        "    bartlettvalue,pvalue = bartlett_test\n",
        "    if (bartlettvalue > 0) and (pvalue > .05):\n",
        "        print('Phương sai các nhóm tương đồng.')\n",
        "    else:\n",
        "        print('Phương sai các nhóm không không tương đồng.')   \n",
        "\n",
        "def bartlett_test_5(c1, c2, c3, c4, c5):\n",
        "    bartlett_test = st.bartlett(c1, c2, c3, c4, c5)\n",
        "    bartlettvalue,pvalue=bartlett_test\n",
        "    if (bartlettvalue > 0) and (pvalue > .05):\n",
        "        print('Phương sai các nhóm bằng nhau.')\n",
        "    else:\n",
        "        print('Phương sai các nhóm không bằng nhau.')"
      ],
      "execution_count": 191,
      "outputs": []
    },
    {
      "cell_type": "code",
      "metadata": {
        "id": "cQ1mdNKL-bnT"
      },
      "source": [
        "# kiểm định anova\n",
        "def anova_4(g1, g2, g3, g4):\n",
        "    statistic,p_value = f_oneway(g1, g2, g3, g4)\n",
        "    print('statistic:',statistic, '; p value:',p_value)    \n",
        "    if p_value < .05:\n",
        "        print(\"Có bằng chứng để bác bỏ giả thuyết H0\")\n",
        "    else:\n",
        "        print(\"Chưa có bằng chứng để bác bỏ giả thuyết H0\")\n",
        "\n",
        "def anova_5(g1, g2, g3, g4, g5):\n",
        "    statistic,p_value = f_oneway(g1, g2, g3, g4, g5)\n",
        "    print('statistic:',statistic, '; p value:',p_value)    \n",
        "    if p_value < .05:\n",
        "        print(\"Có bằng chứng để bác bỏ giả thuyết H0\")\n",
        "    else:\n",
        "        print(\"Chưa có bằng chứng để bác bỏ giả thuyết H0\")"
      ],
      "execution_count": 192,
      "outputs": []
    },
    {
      "cell_type": "markdown",
      "metadata": {
        "id": "jbpVB5SXATqv"
      },
      "source": [
        "câu 1:"
      ]
    },
    {
      "cell_type": "code",
      "metadata": {
        "colab": {
          "base_uri": "https://localhost:8080/",
          "height": 212
        },
        "id": "p2tnmvRC0kJ9",
        "outputId": "7abf10af-3733-4caf-ecd6-2bbd4b2cd13a"
      },
      "source": [
        "df1 = pd.read_excel('owan01.xls')\n",
        "df1.head()"
      ],
      "execution_count": 193,
      "outputs": [
        {
          "output_type": "stream",
          "text": [
            "*** No CODEPAGE record, no encoding_override: will use 'ascii'\n"
          ],
          "name": "stdout"
        },
        {
          "output_type": "execute_result",
          "data": {
            "text/html": [
              "<div>\n",
              "<style scoped>\n",
              "    .dataframe tbody tr th:only-of-type {\n",
              "        vertical-align: middle;\n",
              "    }\n",
              "\n",
              "    .dataframe tbody tr th {\n",
              "        vertical-align: top;\n",
              "    }\n",
              "\n",
              "    .dataframe thead th {\n",
              "        text-align: right;\n",
              "    }\n",
              "</style>\n",
              "<table border=\"1\" class=\"dataframe\">\n",
              "  <thead>\n",
              "    <tr style=\"text-align: right;\">\n",
              "      <th></th>\n",
              "      <th>X1</th>\n",
              "      <th>X2</th>\n",
              "      <th>X3</th>\n",
              "      <th>X4</th>\n",
              "    </tr>\n",
              "  </thead>\n",
              "  <tbody>\n",
              "    <tr>\n",
              "      <th>0</th>\n",
              "      <td>93</td>\n",
              "      <td>85.0</td>\n",
              "      <td>100.0</td>\n",
              "      <td>96.0</td>\n",
              "    </tr>\n",
              "    <tr>\n",
              "      <th>1</th>\n",
              "      <td>120</td>\n",
              "      <td>45.0</td>\n",
              "      <td>75.0</td>\n",
              "      <td>58.0</td>\n",
              "    </tr>\n",
              "    <tr>\n",
              "      <th>2</th>\n",
              "      <td>65</td>\n",
              "      <td>80.0</td>\n",
              "      <td>65.0</td>\n",
              "      <td>95.0</td>\n",
              "    </tr>\n",
              "    <tr>\n",
              "      <th>3</th>\n",
              "      <td>105</td>\n",
              "      <td>28.0</td>\n",
              "      <td>40.0</td>\n",
              "      <td>90.0</td>\n",
              "    </tr>\n",
              "    <tr>\n",
              "      <th>4</th>\n",
              "      <td>115</td>\n",
              "      <td>75.0</td>\n",
              "      <td>73.0</td>\n",
              "      <td>65.0</td>\n",
              "    </tr>\n",
              "  </tbody>\n",
              "</table>\n",
              "</div>"
            ],
            "text/plain": [
              "    X1    X2     X3    X4\n",
              "0   93  85.0  100.0  96.0\n",
              "1  120  45.0   75.0  58.0\n",
              "2   65  80.0   65.0  95.0\n",
              "3  105  28.0   40.0  90.0\n",
              "4  115  75.0   73.0  65.0"
            ]
          },
          "metadata": {
            "tags": []
          },
          "execution_count": 193
        }
      ]
    },
    {
      "cell_type": "code",
      "metadata": {
        "id": "ZzNxxRjTAONi"
      },
      "source": [
        "x1_1 = df1['X1']\n",
        "x1_2 = df1['X2']\n",
        "x1_3 = df1['X3']\n",
        "x1_4 = df1['X4']"
      ],
      "execution_count": 194,
      "outputs": []
    },
    {
      "cell_type": "code",
      "metadata": {
        "id": "ai3A67eIAXux",
        "outputId": "3144ec56-0162-44f4-a4a0-47916e40f420",
        "colab": {
          "base_uri": "https://localhost:8080/"
        }
      },
      "source": [
        "# kiểm định phân phối chuẩn\n",
        "shapiro_test(x1_1)\n",
        "shapiro_test(x1_2)\n",
        "shapiro_test(x1_3)\n",
        "shapiro_test(x1_4)"
      ],
      "execution_count": 195,
      "outputs": [
        {
          "output_type": "stream",
          "text": [
            "Mẫu tuân theo phân phối chuẩn.\n",
            "Mẫu không tuân theo phân phối chuẩn.\n",
            "Mẫu không tuân theo phân phối chuẩn.\n",
            "Mẫu không tuân theo phân phối chuẩn.\n"
          ],
          "name": "stdout"
        }
      ]
    },
    {
      "cell_type": "code",
      "metadata": {
        "id": "t065D7QbB-YL"
      },
      "source": [
        "# vì có cột dữ liệu không tuân theo phân phối chuẩn nên k thể phân tích anova"
      ],
      "execution_count": 196,
      "outputs": []
    },
    {
      "cell_type": "markdown",
      "metadata": {
        "id": "uIz3mhdjCPI4"
      },
      "source": [
        "câu 2 :"
      ]
    },
    {
      "cell_type": "code",
      "metadata": {
        "id": "9S2yWpprCOAc",
        "outputId": "63df0b00-4b53-4e65-b8ac-1398e45cdba8",
        "colab": {
          "base_uri": "https://localhost:8080/",
          "height": 212
        }
      },
      "source": [
        "df2 = pd.read_excel('owan02.xls')\n",
        "df2.head()"
      ],
      "execution_count": 197,
      "outputs": [
        {
          "output_type": "stream",
          "text": [
            "*** No CODEPAGE record, no encoding_override: will use 'ascii'\n"
          ],
          "name": "stdout"
        },
        {
          "output_type": "execute_result",
          "data": {
            "text/html": [
              "<div>\n",
              "<style scoped>\n",
              "    .dataframe tbody tr th:only-of-type {\n",
              "        vertical-align: middle;\n",
              "    }\n",
              "\n",
              "    .dataframe tbody tr th {\n",
              "        vertical-align: top;\n",
              "    }\n",
              "\n",
              "    .dataframe thead th {\n",
              "        text-align: right;\n",
              "    }\n",
              "</style>\n",
              "<table border=\"1\" class=\"dataframe\">\n",
              "  <thead>\n",
              "    <tr style=\"text-align: right;\">\n",
              "      <th></th>\n",
              "      <th>X1</th>\n",
              "      <th>X2</th>\n",
              "      <th>X3</th>\n",
              "      <th>X4</th>\n",
              "      <th>X5</th>\n",
              "    </tr>\n",
              "  </thead>\n",
              "  <tbody>\n",
              "    <tr>\n",
              "      <th>0</th>\n",
              "      <td>2569</td>\n",
              "      <td>2074</td>\n",
              "      <td>2505</td>\n",
              "      <td>2838</td>\n",
              "      <td>1532</td>\n",
              "    </tr>\n",
              "    <tr>\n",
              "      <th>1</th>\n",
              "      <td>2928</td>\n",
              "      <td>2885</td>\n",
              "      <td>2315</td>\n",
              "      <td>2351</td>\n",
              "      <td>2552</td>\n",
              "    </tr>\n",
              "    <tr>\n",
              "      <th>2</th>\n",
              "      <td>2865</td>\n",
              "      <td>3378</td>\n",
              "      <td>2667</td>\n",
              "      <td>3001</td>\n",
              "      <td>3083</td>\n",
              "    </tr>\n",
              "    <tr>\n",
              "      <th>3</th>\n",
              "      <td>3844</td>\n",
              "      <td>3906</td>\n",
              "      <td>2390</td>\n",
              "      <td>2439</td>\n",
              "      <td>2330</td>\n",
              "    </tr>\n",
              "    <tr>\n",
              "      <th>4</th>\n",
              "      <td>3027</td>\n",
              "      <td>2782</td>\n",
              "      <td>3021</td>\n",
              "      <td>2199</td>\n",
              "      <td>2079</td>\n",
              "    </tr>\n",
              "  </tbody>\n",
              "</table>\n",
              "</div>"
            ],
            "text/plain": [
              "     X1    X2    X3    X4    X5\n",
              "0  2569  2074  2505  2838  1532\n",
              "1  2928  2885  2315  2351  2552\n",
              "2  2865  3378  2667  3001  3083\n",
              "3  3844  3906  2390  2439  2330\n",
              "4  3027  2782  3021  2199  2079"
            ]
          },
          "metadata": {
            "tags": []
          },
          "execution_count": 197
        }
      ]
    },
    {
      "cell_type": "code",
      "metadata": {
        "id": "Ck-YDGvTCq4i"
      },
      "source": [
        "x2_1 = df2['X1']\n",
        "x2_2 = df2['X2']\n",
        "x2_3 = df2['X3']\n",
        "x2_4 = df2['X4']\n",
        "x2_5 = df2['X5']"
      ],
      "execution_count": 198,
      "outputs": []
    },
    {
      "cell_type": "code",
      "metadata": {
        "id": "F7YG9LVmC7tW",
        "outputId": "7eb3324e-1b62-4e68-bd76-02e7728e04d3",
        "colab": {
          "base_uri": "https://localhost:8080/"
        }
      },
      "source": [
        "# kiểm định phân phối chuẩn\n",
        "shapiro_test(x2_1)\n",
        "shapiro_test(x2_2)\n",
        "shapiro_test(x2_3)\n",
        "shapiro_test(x2_4)\n",
        "shapiro_test(x2_5)"
      ],
      "execution_count": 199,
      "outputs": [
        {
          "output_type": "stream",
          "text": [
            "Mẫu tuân theo phân phối chuẩn.\n",
            "Mẫu tuân theo phân phối chuẩn.\n",
            "Mẫu tuân theo phân phối chuẩn.\n",
            "Mẫu tuân theo phân phối chuẩn.\n",
            "Mẫu tuân theo phân phối chuẩn.\n"
          ],
          "name": "stdout"
        }
      ]
    },
    {
      "cell_type": "code",
      "metadata": {
        "id": "znoi2KfYDeka",
        "outputId": "7e57b0eb-1e8b-43af-95d6-03a1daba0e6c",
        "colab": {
          "base_uri": "https://localhost:8080/"
        }
      },
      "source": [
        "bartlett_test_5(x2_1, x2_2, x2_3, x2_4, x2_5 )"
      ],
      "execution_count": 200,
      "outputs": [
        {
          "output_type": "stream",
          "text": [
            "Phương sai các nhóm bằng nhau.\n"
          ],
          "name": "stdout"
        }
      ]
    },
    {
      "cell_type": "code",
      "metadata": {
        "id": "MqsBtR6EM7VA",
        "outputId": "80233415-134d-4392-b811-45bdd8c1d06d",
        "colab": {
          "base_uri": "https://localhost:8080/"
        }
      },
      "source": [
        "anova_5(x2_1, x2_2, x2_3, x2_4, x2_5)"
      ],
      "execution_count": 201,
      "outputs": [
        {
          "output_type": "stream",
          "text": [
            "statistic: 1.3142198672637213 ; p value: 0.28382583646160114\n",
            "Chưa có bằng chứng để bác bỏ giả thuyết H0\n"
          ],
          "name": "stdout"
        }
      ]
    },
    {
      "cell_type": "markdown",
      "metadata": {
        "id": "TGgLJigoPvG1"
      },
      "source": [
        "ANOVA một chiều sử dụng giả thuyết rỗng và giả thuyết thay thế sau:\n",
        "\n",
        "$$H_{0}: \\mu{1} = \\mu{2} =\\mu{3} =\\mu{4} =\\mu{5} $$ (tất cả các trung bình tổng thể đều bằng nhau)\n",
        "$$H{a} :$$ ít nhất một trung bình của tổng thể khác  với phần còn lại\n",
        "\n",
        "Thống kê kiểm định F là  1.314 và giá trị p tương ứng là 0.283 . Vì giá trị p không nhỏ hơn 0,05 nên chúng tôi không thể bác bỏ giả thuyết không. Điều này có nghĩa là chúng tôi không có đủ bằng chứng để nói rằng có sự khác biệt về sự tăng trưởng mở rộng giữa 5 loại rễ."
      ]
    },
    {
      "cell_type": "markdown",
      "metadata": {
        "id": "bQGNAEqbF7L6"
      },
      "source": [
        "Câu 3:"
      ]
    },
    {
      "cell_type": "code",
      "metadata": {
        "id": "fGdsgojRF6XK",
        "outputId": "5afa5090-9d62-40c6-c9fc-b6053596b84b",
        "colab": {
          "base_uri": "https://localhost:8080/",
          "height": 212
        }
      },
      "source": [
        "df3 = pd.read_excel('owan03.xls')\n",
        "df3.head()"
      ],
      "execution_count": 202,
      "outputs": [
        {
          "output_type": "stream",
          "text": [
            "*** No CODEPAGE record, no encoding_override: will use 'ascii'\n"
          ],
          "name": "stdout"
        },
        {
          "output_type": "execute_result",
          "data": {
            "text/html": [
              "<div>\n",
              "<style scoped>\n",
              "    .dataframe tbody tr th:only-of-type {\n",
              "        vertical-align: middle;\n",
              "    }\n",
              "\n",
              "    .dataframe tbody tr th {\n",
              "        vertical-align: top;\n",
              "    }\n",
              "\n",
              "    .dataframe thead th {\n",
              "        text-align: right;\n",
              "    }\n",
              "</style>\n",
              "<table border=\"1\" class=\"dataframe\">\n",
              "  <thead>\n",
              "    <tr style=\"text-align: right;\">\n",
              "      <th></th>\n",
              "      <th>X1</th>\n",
              "      <th>X2</th>\n",
              "      <th>X3</th>\n",
              "      <th>X4</th>\n",
              "    </tr>\n",
              "  </thead>\n",
              "  <tbody>\n",
              "    <tr>\n",
              "      <th>0</th>\n",
              "      <td>70</td>\n",
              "      <td>49.0</td>\n",
              "      <td>30.0</td>\n",
              "      <td>34.0</td>\n",
              "    </tr>\n",
              "    <tr>\n",
              "      <th>1</th>\n",
              "      <td>77</td>\n",
              "      <td>60.0</td>\n",
              "      <td>37.0</td>\n",
              "      <td>36.0</td>\n",
              "    </tr>\n",
              "    <tr>\n",
              "      <th>2</th>\n",
              "      <td>83</td>\n",
              "      <td>63.0</td>\n",
              "      <td>56.0</td>\n",
              "      <td>48.0</td>\n",
              "    </tr>\n",
              "    <tr>\n",
              "      <th>3</th>\n",
              "      <td>87</td>\n",
              "      <td>67.0</td>\n",
              "      <td>65.0</td>\n",
              "      <td>48.0</td>\n",
              "    </tr>\n",
              "    <tr>\n",
              "      <th>4</th>\n",
              "      <td>92</td>\n",
              "      <td>70.0</td>\n",
              "      <td>76.0</td>\n",
              "      <td>65.0</td>\n",
              "    </tr>\n",
              "  </tbody>\n",
              "</table>\n",
              "</div>"
            ],
            "text/plain": [
              "   X1    X2    X3    X4\n",
              "0  70  49.0  30.0  34.0\n",
              "1  77  60.0  37.0  36.0\n",
              "2  83  63.0  56.0  48.0\n",
              "3  87  67.0  65.0  48.0\n",
              "4  92  70.0  76.0  65.0"
            ]
          },
          "metadata": {
            "tags": []
          },
          "execution_count": 202
        }
      ]
    },
    {
      "cell_type": "code",
      "metadata": {
        "id": "ahk3urbeGF-6"
      },
      "source": [
        "x3_1 = df3['X1']\n",
        "x3_2 = df3['X2']\n",
        "x3_3 = df3['X3']\n",
        "x3_4 = df3['X4']"
      ],
      "execution_count": 203,
      "outputs": []
    },
    {
      "cell_type": "code",
      "metadata": {
        "id": "bn-ektliGaaE",
        "outputId": "cc560562-78f6-4342-87c3-73bcec46547c",
        "colab": {
          "base_uri": "https://localhost:8080/"
        }
      },
      "source": [
        "# kiểm định phân phối chuẩn\n",
        "shapiro_test(x3_1)\n",
        "shapiro_test(x3_2)\n",
        "shapiro_test(x3_3)\n",
        "shapiro_test(x3_4)"
      ],
      "execution_count": 204,
      "outputs": [
        {
          "output_type": "stream",
          "text": [
            "Mẫu tuân theo phân phối chuẩn.\n",
            "Mẫu không tuân theo phân phối chuẩn.\n",
            "Mẫu không tuân theo phân phối chuẩn.\n",
            "Mẫu không tuân theo phân phối chuẩn.\n"
          ],
          "name": "stdout"
        }
      ]
    },
    {
      "cell_type": "code",
      "metadata": {
        "id": "yXP_z5QJGp5U"
      },
      "source": [
        "# vì có cột dữ liệu không tuân theo phân phối chuẩn nên k thể phân tích anova"
      ],
      "execution_count": 205,
      "outputs": []
    },
    {
      "cell_type": "markdown",
      "metadata": {
        "id": "QCRP6_2vGrnw"
      },
      "source": [
        "Câu 4:"
      ]
    },
    {
      "cell_type": "code",
      "metadata": {
        "id": "EieHUC-YGqq0",
        "outputId": "74101438-31e1-4f76-cb10-b5907a262243",
        "colab": {
          "base_uri": "https://localhost:8080/",
          "height": 212
        }
      },
      "source": [
        "df4 = pd.read_excel('owan04.xls')\n",
        "df4.head()"
      ],
      "execution_count": 206,
      "outputs": [
        {
          "output_type": "stream",
          "text": [
            "*** No CODEPAGE record, no encoding_override: will use 'ascii'\n"
          ],
          "name": "stdout"
        },
        {
          "output_type": "execute_result",
          "data": {
            "text/html": [
              "<div>\n",
              "<style scoped>\n",
              "    .dataframe tbody tr th:only-of-type {\n",
              "        vertical-align: middle;\n",
              "    }\n",
              "\n",
              "    .dataframe tbody tr th {\n",
              "        vertical-align: top;\n",
              "    }\n",
              "\n",
              "    .dataframe thead th {\n",
              "        text-align: right;\n",
              "    }\n",
              "</style>\n",
              "<table border=\"1\" class=\"dataframe\">\n",
              "  <thead>\n",
              "    <tr style=\"text-align: right;\">\n",
              "      <th></th>\n",
              "      <th>X1</th>\n",
              "      <th>X2</th>\n",
              "      <th>X3</th>\n",
              "      <th>X4</th>\n",
              "      <th>X5</th>\n",
              "    </tr>\n",
              "  </thead>\n",
              "  <tbody>\n",
              "    <tr>\n",
              "      <th>0</th>\n",
              "      <td>80.0</td>\n",
              "      <td>150.0</td>\n",
              "      <td>48.0</td>\n",
              "      <td>100.0</td>\n",
              "      <td>25</td>\n",
              "    </tr>\n",
              "    <tr>\n",
              "      <th>1</th>\n",
              "      <td>125.0</td>\n",
              "      <td>40.0</td>\n",
              "      <td>35.0</td>\n",
              "      <td>96.0</td>\n",
              "      <td>80</td>\n",
              "    </tr>\n",
              "    <tr>\n",
              "      <th>2</th>\n",
              "      <td>35.0</td>\n",
              "      <td>120.0</td>\n",
              "      <td>95.0</td>\n",
              "      <td>35.0</td>\n",
              "      <td>30</td>\n",
              "    </tr>\n",
              "    <tr>\n",
              "      <th>3</th>\n",
              "      <td>58.0</td>\n",
              "      <td>75.0</td>\n",
              "      <td>45.0</td>\n",
              "      <td>99.0</td>\n",
              "      <td>35</td>\n",
              "    </tr>\n",
              "    <tr>\n",
              "      <th>4</th>\n",
              "      <td>110.0</td>\n",
              "      <td>160.0</td>\n",
              "      <td>75.0</td>\n",
              "      <td>75.0</td>\n",
              "      <td>30</td>\n",
              "    </tr>\n",
              "  </tbody>\n",
              "</table>\n",
              "</div>"
            ],
            "text/plain": [
              "      X1     X2    X3     X4  X5\n",
              "0   80.0  150.0  48.0  100.0  25\n",
              "1  125.0   40.0  35.0   96.0  80\n",
              "2   35.0  120.0  95.0   35.0  30\n",
              "3   58.0   75.0  45.0   99.0  35\n",
              "4  110.0  160.0  75.0   75.0  30"
            ]
          },
          "metadata": {
            "tags": []
          },
          "execution_count": 206
        }
      ]
    },
    {
      "cell_type": "code",
      "metadata": {
        "id": "BJALV-iSG3wV"
      },
      "source": [
        "x4_1 = df4['X1']\n",
        "x4_2 = df4['X2']\n",
        "x4_3 = df4['X3']\n",
        "x4_4 = df4['X4']\n",
        "x4_5 = df4['X5']"
      ],
      "execution_count": 207,
      "outputs": []
    },
    {
      "cell_type": "code",
      "metadata": {
        "id": "WPggseevHJ27",
        "outputId": "f92b8a0a-ca80-41c9-8df9-b356ca1252c8",
        "colab": {
          "base_uri": "https://localhost:8080/"
        }
      },
      "source": [
        "# kiểm định phân phối chuẩn\n",
        "shapiro_test(x4_1)\n",
        "shapiro_test(x4_2)\n",
        "shapiro_test(x4_3)\n",
        "shapiro_test(x4_4)\n",
        "shapiro_test(x4_5)"
      ],
      "execution_count": 208,
      "outputs": [
        {
          "output_type": "stream",
          "text": [
            "Mẫu không tuân theo phân phối chuẩn.\n",
            "Mẫu không tuân theo phân phối chuẩn.\n",
            "Mẫu không tuân theo phân phối chuẩn.\n",
            "Mẫu không tuân theo phân phối chuẩn.\n",
            "Mẫu tuân theo phân phối chuẩn.\n"
          ],
          "name": "stdout"
        }
      ]
    },
    {
      "cell_type": "code",
      "metadata": {
        "id": "I9KBOb0VHeP-"
      },
      "source": [
        "# vì có cột dữ liệu không tuân theo phân phối chuẩn nên k thể phân tích anova"
      ],
      "execution_count": 209,
      "outputs": []
    },
    {
      "cell_type": "markdown",
      "metadata": {
        "id": "zI98F3FgHquT"
      },
      "source": [
        "Câu 5:\n"
      ]
    },
    {
      "cell_type": "code",
      "metadata": {
        "id": "wJITjhbaHo_D",
        "outputId": "b418aa19-1c6b-4c74-e1a6-533c6fa133ba",
        "colab": {
          "base_uri": "https://localhost:8080/",
          "height": 212
        }
      },
      "source": [
        "df5 = pd.read_excel('owan05.xls')\n",
        "df5.head()"
      ],
      "execution_count": 210,
      "outputs": [
        {
          "output_type": "stream",
          "text": [
            "*** No CODEPAGE record, no encoding_override: will use 'ascii'\n"
          ],
          "name": "stdout"
        },
        {
          "output_type": "execute_result",
          "data": {
            "text/html": [
              "<div>\n",
              "<style scoped>\n",
              "    .dataframe tbody tr th:only-of-type {\n",
              "        vertical-align: middle;\n",
              "    }\n",
              "\n",
              "    .dataframe tbody tr th {\n",
              "        vertical-align: top;\n",
              "    }\n",
              "\n",
              "    .dataframe thead th {\n",
              "        text-align: right;\n",
              "    }\n",
              "</style>\n",
              "<table border=\"1\" class=\"dataframe\">\n",
              "  <thead>\n",
              "    <tr style=\"text-align: right;\">\n",
              "      <th></th>\n",
              "      <th>X1</th>\n",
              "      <th>X2</th>\n",
              "      <th>X3</th>\n",
              "      <th>X4</th>\n",
              "      <th>X5</th>\n",
              "    </tr>\n",
              "  </thead>\n",
              "  <tbody>\n",
              "    <tr>\n",
              "      <th>0</th>\n",
              "      <td>250</td>\n",
              "      <td>260</td>\n",
              "      <td>270</td>\n",
              "      <td>260</td>\n",
              "      <td>247</td>\n",
              "    </tr>\n",
              "    <tr>\n",
              "      <th>1</th>\n",
              "      <td>255</td>\n",
              "      <td>271</td>\n",
              "      <td>250</td>\n",
              "      <td>255</td>\n",
              "      <td>249</td>\n",
              "    </tr>\n",
              "    <tr>\n",
              "      <th>2</th>\n",
              "      <td>255</td>\n",
              "      <td>258</td>\n",
              "      <td>281</td>\n",
              "      <td>265</td>\n",
              "      <td>255</td>\n",
              "    </tr>\n",
              "    <tr>\n",
              "      <th>3</th>\n",
              "      <td>264</td>\n",
              "      <td>263</td>\n",
              "      <td>273</td>\n",
              "      <td>257</td>\n",
              "      <td>247</td>\n",
              "    </tr>\n",
              "    <tr>\n",
              "      <th>4</th>\n",
              "      <td>250</td>\n",
              "      <td>267</td>\n",
              "      <td>257</td>\n",
              "      <td>268</td>\n",
              "      <td>244</td>\n",
              "    </tr>\n",
              "  </tbody>\n",
              "</table>\n",
              "</div>"
            ],
            "text/plain": [
              "    X1   X2   X3   X4   X5\n",
              "0  250  260  270  260  247\n",
              "1  255  271  250  255  249\n",
              "2  255  258  281  265  255\n",
              "3  264  263  273  257  247\n",
              "4  250  267  257  268  244"
            ]
          },
          "metadata": {
            "tags": []
          },
          "execution_count": 210
        }
      ]
    },
    {
      "cell_type": "code",
      "metadata": {
        "id": "s4vZP0yMH0en"
      },
      "source": [
        "x5_1 = df5['X1']\n",
        "x5_2 = df5['X2']\n",
        "x5_3 = df5['X3']\n",
        "x5_4 = df5['X4']\n",
        "x5_5 = df5['X5']"
      ],
      "execution_count": 211,
      "outputs": []
    },
    {
      "cell_type": "code",
      "metadata": {
        "id": "YVZ18w9QIRds",
        "outputId": "b0fd9f1f-6458-45b8-8c11-dcde783ec2cd",
        "colab": {
          "base_uri": "https://localhost:8080/"
        }
      },
      "source": [
        "# kiểm định phân phối chuẩn\n",
        "shapiro_test(x5_1)\n",
        "shapiro_test(x5_2)\n",
        "shapiro_test(x5_3)\n",
        "shapiro_test(x5_4)\n",
        "shapiro_test(x5_5)"
      ],
      "execution_count": 212,
      "outputs": [
        {
          "output_type": "stream",
          "text": [
            "Mẫu không tuân theo phân phối chuẩn.\n",
            "Mẫu tuân theo phân phối chuẩn.\n",
            "Mẫu tuân theo phân phối chuẩn.\n",
            "Mẫu tuân theo phân phối chuẩn.\n",
            "Mẫu tuân theo phân phối chuẩn.\n"
          ],
          "name": "stdout"
        }
      ]
    }
  ]
}