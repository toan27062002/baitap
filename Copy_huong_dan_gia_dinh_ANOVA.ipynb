{
  "nbformat": 4,
  "nbformat_minor": 0,
  "metadata": {
    "kernelspec": {
      "display_name": "Python 3",
      "language": "python",
      "name": "python3"
    },
    "language_info": {
      "codemirror_mode": {
        "name": "ipython",
        "version": 3
      },
      "file_extension": ".py",
      "mimetype": "text/x-python",
      "name": "python",
      "nbconvert_exporter": "python",
      "pygments_lexer": "ipython3",
      "version": "3.7.3"
    },
    "colab": {
      "name": "Copy  huong-dan-gia-dinh-ANOVA.ipynb",
      "provenance": [],
      "include_colab_link": true
    }
  },
  "cells": [
    {
      "cell_type": "markdown",
      "metadata": {
        "id": "view-in-github",
        "colab_type": "text"
      },
      "source": [
        "<a href=\"https://colab.research.google.com/github/toan27062002/baitap/blob/main/Copy_huong_dan_gia_dinh_ANOVA.ipynb\" target=\"_parent\"><img src=\"https://colab.research.google.com/assets/colab-badge.svg\" alt=\"Open In Colab\"/></a>"
      ]
    },
    {
      "cell_type": "markdown",
      "metadata": {
        "id": "cTNkHBW9Ygen"
      },
      "source": [
        "PHÂN TÍCH ANOVA MỘT CHIỀU\n",
        "\n",
        "Phân tích ANOVA chấp nhận các giả định sau:\n",
        "\n",
        "(1) Tất cả các nhóm đều độc lập với nhau\n",
        "\n",
        "(2) Dữ liệu của mỗi nhóm đều tuân theo phân phối chuẩn. Tính chất này có thể được kiểm định bằng phương pháp Shapiro-Wilks.\n",
        "\n",
        "(3) Phương sai (variance) của các nhóm bằng nhau. Tính chất này có thể được kiểm định bằng phương pháp kiểm định Bartlett hay Levene.\n",
        "\n",
        "Nếu dữ liệu hiện có thỏa mãn các tính chất trên thì chúng ta mới tiến hành kiểm định ANOVA. Do vậy trước khi tiến hành kiểm định ANOVA, chúng ta cần thực hiện kiểm tra tập dữ liệu cần thỏa mãn 3 tính chất trên.\n",
        "    "
      ]
    },
    {
      "cell_type": "code",
      "metadata": {
        "id": "URz4XDxAZVJo"
      },
      "source": [
        "import numpy as np\n",
        "import pandas as pd\n",
        "from scipy import stats"
      ],
      "execution_count": 66,
      "outputs": []
    },
    {
      "cell_type": "code",
      "metadata": {
        "id": "uNDbF_pJYgfV"
      },
      "source": [
        "#Bước 1: Hãy tạo một tập dữ liệu mẫu sample_1 với kích thước 100 tuân theo phân phối chuẩn"
      ],
      "execution_count": 67,
      "outputs": []
    },
    {
      "cell_type": "code",
      "metadata": {
        "id": "13tIoIkwZejg"
      },
      "source": [
        "m1 = np.random.normal(loc=10, scale=3, size=100)\n",
        "m2 = np.random.normal(loc=10,  scale=3,  size=100)"
      ],
      "execution_count": 68,
      "outputs": []
    },
    {
      "cell_type": "code",
      "metadata": {
        "id": "zwQ5vR_DaFbJ",
        "colab": {
          "base_uri": "https://localhost:8080/",
          "height": 195
        },
        "outputId": "ab7c16de-3461-4084-f344-f11552c06c0f"
      },
      "source": [
        "frame_m = pd.DataFrame(list(zip(m1, m2)), columns = ['a', 'b'])\n",
        "frame_m.head()"
      ],
      "execution_count": 69,
      "outputs": [
        {
          "output_type": "execute_result",
          "data": {
            "text/html": [
              "<div>\n",
              "<style scoped>\n",
              "    .dataframe tbody tr th:only-of-type {\n",
              "        vertical-align: middle;\n",
              "    }\n",
              "\n",
              "    .dataframe tbody tr th {\n",
              "        vertical-align: top;\n",
              "    }\n",
              "\n",
              "    .dataframe thead th {\n",
              "        text-align: right;\n",
              "    }\n",
              "</style>\n",
              "<table border=\"1\" class=\"dataframe\">\n",
              "  <thead>\n",
              "    <tr style=\"text-align: right;\">\n",
              "      <th></th>\n",
              "      <th>a</th>\n",
              "      <th>b</th>\n",
              "    </tr>\n",
              "  </thead>\n",
              "  <tbody>\n",
              "    <tr>\n",
              "      <th>0</th>\n",
              "      <td>10.484305</td>\n",
              "      <td>16.583472</td>\n",
              "    </tr>\n",
              "    <tr>\n",
              "      <th>1</th>\n",
              "      <td>14.876845</td>\n",
              "      <td>13.017932</td>\n",
              "    </tr>\n",
              "    <tr>\n",
              "      <th>2</th>\n",
              "      <td>8.680287</td>\n",
              "      <td>13.655830</td>\n",
              "    </tr>\n",
              "    <tr>\n",
              "      <th>3</th>\n",
              "      <td>8.254736</td>\n",
              "      <td>12.823421</td>\n",
              "    </tr>\n",
              "    <tr>\n",
              "      <th>4</th>\n",
              "      <td>9.153268</td>\n",
              "      <td>12.175553</td>\n",
              "    </tr>\n",
              "  </tbody>\n",
              "</table>\n",
              "</div>"
            ],
            "text/plain": [
              "           a          b\n",
              "0  10.484305  16.583472\n",
              "1  14.876845  13.017932\n",
              "2   8.680287  13.655830\n",
              "3   8.254736  12.823421\n",
              "4   9.153268  12.175553"
            ]
          },
          "metadata": {
            "tags": []
          },
          "execution_count": 69
        }
      ]
    },
    {
      "cell_type": "code",
      "metadata": {
        "id": "2JkV5gKPYgfc"
      },
      "source": [
        "#Bước 2: hãy tạo tập dữ liệu mẫu sample_2 với kích thước 100 tuân theo phân phối Poisson"
      ],
      "execution_count": 70,
      "outputs": []
    },
    {
      "cell_type": "code",
      "metadata": {
        "id": "O7mIDxvJbjZz"
      },
      "source": [
        "n1 = stats.poisson.rvs(loc=8, mu=5, size=100)\n",
        "n2 = stats.poisson.rvs(loc=8, mu=5, size=100)"
      ],
      "execution_count": 71,
      "outputs": []
    },
    {
      "cell_type": "code",
      "metadata": {
        "id": "nL1v2RROdyX_",
        "colab": {
          "base_uri": "https://localhost:8080/",
          "height": 195
        },
        "outputId": "1eddd322-a5a3-4a85-c3c0-199221d2f89b"
      },
      "source": [
        "frame_n = pd.DataFrame(list(zip(n1, n2)), columns = ['c', 'd'])\n",
        "frame_n.head()"
      ],
      "execution_count": 72,
      "outputs": [
        {
          "output_type": "execute_result",
          "data": {
            "text/html": [
              "<div>\n",
              "<style scoped>\n",
              "    .dataframe tbody tr th:only-of-type {\n",
              "        vertical-align: middle;\n",
              "    }\n",
              "\n",
              "    .dataframe tbody tr th {\n",
              "        vertical-align: top;\n",
              "    }\n",
              "\n",
              "    .dataframe thead th {\n",
              "        text-align: right;\n",
              "    }\n",
              "</style>\n",
              "<table border=\"1\" class=\"dataframe\">\n",
              "  <thead>\n",
              "    <tr style=\"text-align: right;\">\n",
              "      <th></th>\n",
              "      <th>c</th>\n",
              "      <th>d</th>\n",
              "    </tr>\n",
              "  </thead>\n",
              "  <tbody>\n",
              "    <tr>\n",
              "      <th>0</th>\n",
              "      <td>13</td>\n",
              "      <td>17</td>\n",
              "    </tr>\n",
              "    <tr>\n",
              "      <th>1</th>\n",
              "      <td>19</td>\n",
              "      <td>15</td>\n",
              "    </tr>\n",
              "    <tr>\n",
              "      <th>2</th>\n",
              "      <td>12</td>\n",
              "      <td>13</td>\n",
              "    </tr>\n",
              "    <tr>\n",
              "      <th>3</th>\n",
              "      <td>11</td>\n",
              "      <td>12</td>\n",
              "    </tr>\n",
              "    <tr>\n",
              "      <th>4</th>\n",
              "      <td>16</td>\n",
              "      <td>15</td>\n",
              "    </tr>\n",
              "  </tbody>\n",
              "</table>\n",
              "</div>"
            ],
            "text/plain": [
              "    c   d\n",
              "0  13  17\n",
              "1  19  15\n",
              "2  12  13\n",
              "3  11  12\n",
              "4  16  15"
            ]
          },
          "metadata": {
            "tags": []
          },
          "execution_count": 72
        }
      ]
    },
    {
      "cell_type": "markdown",
      "metadata": {
        "id": "SAUCq6ZoYgfe"
      },
      "source": [
        "Hãy tham khảo các hướng dẫn sau để kiểm định tính chất thứ 2 bằng phương pháp Shapiro-Wilks đối với sample_1 và sample_2\n",
        "\n",
        "(1) [Tài liệu tham khảo scipy](https://docs.scipy.org/doc/scipy/reference/generated/scipy.stats.shapiro.html)\n",
        "\n",
        "(2) [Hướng dẫn cụ thể của statology](https://www.statology.org/shapiro-wilk-test-python/)"
      ]
    },
    {
      "cell_type": "code",
      "metadata": {
        "id": "6DXO-ZOHYgfh"
      },
      "source": [
        "#Code kiểm định tính chất thứ 2 của sample_1 và sample_2"
      ],
      "execution_count": 73,
      "outputs": []
    },
    {
      "cell_type": "markdown",
      "metadata": {
        "id": "tjvxHmVfOi6k"
      },
      "source": [
        "\n",
        "\n",
        "*   Ho : mẫu tuân theo luật phân phối chuẩn\n",
        "*   Ha : mẫu không tuân theo luật phân phối chuẩn\n",
        "\n"
      ]
    },
    {
      "cell_type": "code",
      "metadata": {
        "id": "DDKXhd1Ve7So",
        "colab": {
          "base_uri": "https://localhost:8080/"
        },
        "outputId": "28081d56-8f5a-4f02-e5c1-92b2bb11d98a"
      },
      "source": [
        "statistic_m, pvalue_m = stats.shapiro(m1)\n",
        "if (statistic_m > 0) and (pvalue_m> .05):\n",
        "        print('Không có bằng chứng khoa học để bác bỏ Ho.')\n",
        "else:\n",
        "        print('Có bằng chứng khoa học để bác bỏ Ho.')"
      ],
      "execution_count": 74,
      "outputs": [
        {
          "output_type": "stream",
          "text": [
            "Không có bằng chứng khoa học để bác bỏ Ho.\n"
          ],
          "name": "stdout"
        }
      ]
    },
    {
      "cell_type": "markdown",
      "metadata": {
        "id": "GmFFF1UEPjuE"
      },
      "source": [
        "\n",
        "\n",
        "*   Ho : mẫu tuân theo luật phân phối chuẩn\n",
        "*   Ha : mẫu không tuân theo luật phân phối chuẩn\n",
        "\n"
      ]
    },
    {
      "cell_type": "code",
      "metadata": {
        "id": "InCNk1WihlJh",
        "colab": {
          "base_uri": "https://localhost:8080/"
        },
        "outputId": "694fd0fb-3452-4ee0-b71d-48c303a5961a"
      },
      "source": [
        "statistic_n, pvalue_n = stats.shapiro(n1)\n",
        "if (statistic_n > 0) and (pvalue_n> .05):\n",
        "        print('Không có bằng chứng khoa học để bác bỏ Ho.')\n",
        "else:\n",
        "        print('Có bằng chứng khoa học để bác bỏ Ho.')"
      ],
      "execution_count": 75,
      "outputs": [
        {
          "output_type": "stream",
          "text": [
            "Có bằng chứng khoa học để bác bỏ Ho.\n"
          ],
          "name": "stdout"
        }
      ]
    },
    {
      "cell_type": "markdown",
      "metadata": {
        "id": "vhfC1h28Ygfj"
      },
      "source": [
        "Hãy tham khảo các hướng dẫn sau để kiểm định tính chất thứ 3 bằng kiểm định Bartlett hoặc kiểm định Levene\n",
        "\n",
        "(1) [Hướng dẫn tổng quát](https://www.marsja.se/levenes-bartletts-test-of-equality-homogeneity-of-variance-in-python/)\n",
        "\n",
        "(2) [Hướng dẫn ở stackoverflow](https://stackoverflow.com/questions/36141254/how-to-test-for-homoscedasticity-having-the-same-population-variance-in-python)\n",
        "\n",
        "(3) Sử dụng bài giảng về kiểm định Bartlett và Levene ở buổi trước"
      ]
    },
    {
      "cell_type": "code",
      "metadata": {
        "id": "lOnoxFT6Ygfm"
      },
      "source": [
        "#Code kiểm định tính đồng nhất về phương sai của các nhóm"
      ],
      "execution_count": 76,
      "outputs": []
    },
    {
      "cell_type": "code",
      "metadata": {
        "id": "NxbfYTgIj90u"
      },
      "source": [
        " from scipy.stats import bartlett"
      ],
      "execution_count": 77,
      "outputs": []
    },
    {
      "cell_type": "markdown",
      "metadata": {
        "id": "s06VyR7WKiWB"
      },
      "source": [
        "Xây dựng giả thuyết:\n",
        "$$H_{0}: \\sigma_{1}^{2} = \\sigma_{2}^{2}$$ ( phương sai 2 mẫu đồng nhất)\n",
        "$$H_{a}: \\sigma_{1}^{2} \\neq \\sigma_{2}^{2}$$( phương sai 2 mẫu không đồng nhất)"
      ]
    },
    {
      "cell_type": "code",
      "metadata": {
        "id": "XBpotbQDYgfp",
        "colab": {
          "base_uri": "https://localhost:8080/"
        },
        "outputId": "3fdf351c-6472-4b0e-8baf-76db53970c74"
      },
      "source": [
        " \n",
        "stat_m, p_m = bartlett(frame_m['a'], frame_m['b'])\n",
        "print('stat = ', stat_m) \n",
        "print('p = ',p_m)\n",
        "if p_m > 0.05:\n",
        "      print(\"Có bằng chứng để bác bỏ giả thuyết H0\")\n",
        "else:\n",
        "      print(\"Chưa có bằng chứng để bác bỏ giả thuyết H0\")"
      ],
      "execution_count": 78,
      "outputs": [
        {
          "output_type": "stream",
          "text": [
            "stat =  1.7018568522122537\n",
            "p =  0.1920453202808634\n",
            "Có bằng chứng để bác bỏ giả thuyết H0\n"
          ],
          "name": "stdout"
        }
      ]
    },
    {
      "cell_type": "markdown",
      "metadata": {
        "id": "BW6-m_0eMypT"
      },
      "source": [
        "Xây dựng giả thuyết:\n",
        "$$H_{0}: \\sigma_{1}^{2} = \\sigma_{2}^{2}$$ ( phương sai 2 mẫu đồng nhất)\n",
        "$$H_{a}: \\sigma_{1}^{2} \\neq \\sigma_{2}^{2}$$( phương sai 2 mẫu không đồng nhất)"
      ]
    },
    {
      "cell_type": "code",
      "metadata": {
        "id": "-lmwDPOro3Fp",
        "colab": {
          "base_uri": "https://localhost:8080/"
        },
        "outputId": "a5f5681f-3797-4545-d222-e025b30965a8"
      },
      "source": [
        "stat_n, p_n = bartlett(frame_n['c'],frame_n['d'])\n",
        "print('stat  = ', stat_n) \n",
        "print('p  = ',p_n)\n",
        "if p_n > 0.05:\n",
        "      print(\"Có bằng chứng để bác bỏ giả thuyết H0\")\n",
        "else:\n",
        "      print(\"Chưa có bằng chứng để bác bỏ giả thuyết H0\")"
      ],
      "execution_count": 79,
      "outputs": [
        {
          "output_type": "stream",
          "text": [
            "stat  =  0.0024977028672173445\n",
            "p  =  0.9601406981122791\n",
            "Có bằng chứng để bác bỏ giả thuyết H0\n"
          ],
          "name": "stdout"
        }
      ]
    }
  ]
}