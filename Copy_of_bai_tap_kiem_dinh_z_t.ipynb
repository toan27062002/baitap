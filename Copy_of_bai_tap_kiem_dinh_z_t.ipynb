{
  "nbformat": 4,
  "nbformat_minor": 0,
  "metadata": {
    "colab": {
      "name": "Copy of bai-tap-kiem-dinh-z-t.ipynb",
      "provenance": [],
      "collapsed_sections": [],
      "include_colab_link": true
    },
    "kernelspec": {
      "display_name": "Python 3",
      "language": "python",
      "name": "python3"
    },
    "language_info": {
      "codemirror_mode": {
        "name": "ipython",
        "version": 3
      },
      "file_extension": ".py",
      "mimetype": "text/x-python",
      "name": "python",
      "nbconvert_exporter": "python",
      "pygments_lexer": "ipython3",
      "version": "3.7.3"
    }
  },
  "cells": [
    {
      "cell_type": "markdown",
      "metadata": {
        "id": "view-in-github",
        "colab_type": "text"
      },
      "source": [
        "<a href=\"https://colab.research.google.com/github/toan27062002/baitap/blob/main/Copy_of_bai_tap_kiem_dinh_z_t.ipynb\" target=\"_parent\"><img src=\"https://colab.research.google.com/assets/colab-badge.svg\" alt=\"Open In Colab\"/></a>"
      ]
    },
    {
      "cell_type": "markdown",
      "metadata": {
        "id": "DAGphPHqY5Po"
      },
      "source": [
        "XÂY DỰNG CHƯƠNG TRÌNH KIỂM ĐỊNH Z (HOẶC T) CHO CÁC BÀI TẬP SAU\n",
        "\n",
        "Gợi ý:\n",
        "\n",
        "- Số liệu được sinh ngẫu nhiên theo phân phối chuẩn\n",
        "- Sử dụng gói phần mềm statsmodels để tiến hành kiểm định\n",
        "- Đối với các bài tập kiểm định giả thuyết thì sinh viên cần phát biểu các giả thuyết (bằng tiếng Việt) $H_{0}$ và $H_{a}$ trước khi lập trình kiểm định"
      ]
    },
    {
      "cell_type": "code",
      "metadata": {
        "colab": {
          "base_uri": "https://localhost:8080/",
          "height": 36
        },
        "id": "AuR_43ImbBue",
        "outputId": "ee83f399-15f5-4072-bae8-2447dd65becd"
      },
      "source": [
        " \n",
        "from statsmodels.stats.weightstats import ztest\n",
        "import numpy as np\n",
        "import random\n",
        "from scipy import stats as st\n",
        "from statsmodels.stats.weightstats import ttest_ind\n",
        "import scipy\n",
        "scipy.version.version"
      ],
      "execution_count": null,
      "outputs": [
        {
          "output_type": "execute_result",
          "data": {
            "application/vnd.google.colaboratory.intrinsic+json": {
              "type": "string"
            },
            "text/plain": [
              "'1.4.1'"
            ]
          },
          "metadata": {
            "tags": []
          },
          "execution_count": 49
        }
      ]
    },
    {
      "cell_type": "markdown",
      "metadata": {
        "id": "z78e1idsY5P1"
      },
      "source": [
        "Bài 1: You’re a Q/C inspector for Gallo. The sample standard deviation for 2-liter bottles is .05 liters.  A random sample of 100 bottles showed sasmple mean = 1.99 liters.  What is the 90%  confidence interval estimate of the true mean amount in 2-liter bottles? "
      ]
    },
    {
      "cell_type": "code",
      "metadata": {
        "colab": {
          "base_uri": "https://localhost:8080/"
        },
        "id": "-ZRlejBaY5P6",
        "outputId": "a594cbb3-cf61-4737-a375-32d09409a37a"
      },
      "source": [
        "print('The sample mean of 1.99 has a 90% confidence ')\n",
        "print( 'interval:',st.norm.interval(0.90, loc=1.99, scale=0.05))"
      ],
      "execution_count": null,
      "outputs": [
        {
          "output_type": "stream",
          "text": [
            "The sample mean of 1.99 has a 90% confidence \n",
            "interval: (1.9077573186524264, 2.0722426813475736)\n"
          ],
          "name": "stdout"
        }
      ]
    },
    {
      "cell_type": "markdown",
      "metadata": {
        "id": "vX3Iuir7Y5P9"
      },
      "source": [
        "Bài 2: You’re a time study analyst in manufacturing.  You’ve recorded the following task times (min.): 3.6, 4.2, 4.0, 3.5, 3.8, 3.1. What is the 90% confidence interval estimate of the population mean task time? "
      ]
    },
    {
      "cell_type": "code",
      "metadata": {
        "colab": {
          "base_uri": "https://localhost:8080/"
        },
        "id": "YtrXxIQWY5P_",
        "outputId": "a3ffb0cf-7a24-4ab8-a2aa-2c2745ea8e64"
      },
      "source": [
        " \n",
        "sample2 = [3.6, 4.2, 4, 3.5, 3.8, 3.1]\n",
        " \n",
        "print(f'The sample mean of {np.mean(sample2, axis=0)} has a 90% confidence ')\n",
        "print( 'interval:',st.norm.interval(0.90, loc=np.mean(sample2, axis =0), scale=np.std(sample2, axis = 0)))"
      ],
      "execution_count": null,
      "outputs": [
        {
          "output_type": "stream",
          "text": [
            "The sample mean of 3.7000000000000006 has a 90% confidence \n",
            "interval: (3.114592303730054, 4.285407696269947)\n"
          ],
          "name": "stdout"
        }
      ]
    },
    {
      "cell_type": "markdown",
      "metadata": {
        "id": "C1HgLdDPY5QC"
      },
      "source": [
        "Bài 3: Does an average box of cereal contain 368 grams of cereal?  A random sample of 25 boxes had $\\overline{\\rm x}$ = 372.5.  The company has specified $\\sigma$ to be 25 grams.  Test at the .05 level of significance."
      ]
    },
    {
      "cell_type": "code",
      "metadata": {
        "colab": {
          "base_uri": "https://localhost:8080/"
        },
        "id": "CzzI_TMVY5QF",
        "outputId": "d2436095-46c3-49fb-f43a-2b1d8fe3c744"
      },
      "source": [
        "sample3 = np.random.normal(372.5, 25,25)\n",
        "ttest_Score, p_value = st.ttest_1samp(sample3, 25)\n",
        "print('t = ',ttest_Score,', p = ',p_value)\n",
        "if(p_value <  .05):\n",
        "  print(\"Có bằng chứng để bác bỏ giả thuyết H0\")\n",
        "else:\n",
        "  print(\"Chưa có bằng chứng để bác bỏ giả thuyết H0\")"
      ],
      "execution_count": 67,
      "outputs": [
        {
          "output_type": "stream",
          "text": [
            "t =  65.54686764942495 , p =  1.3953573465441662e-28\n",
            "Có bằng chứng để bác bỏ giả thuyết H0\n"
          ],
          "name": "stdout"
        }
      ]
    },
    {
      "cell_type": "markdown",
      "metadata": {
        "id": "ON-pFCo7Y5QH"
      },
      "source": [
        "Bài 4: You’re a Q/C inspector.  You want to find out if a new machine is making electrical cords to customer specification: average breaking strength of 70 lb. with $\\sigma$ = 3.5 lb.  You take a sample of 36 cords & compute a sample mean of 69.7 lb.  At the .05 level of significance, is there evidence that the machine is not meeting the average breaking strength?"
      ]
    },
    {
      "cell_type": "code",
      "metadata": {
        "colab": {
          "base_uri": "https://localhost:8080/"
        },
        "id": "Ifxoy5cSY5QK",
        "outputId": "655111b3-c1cc-4156-f883-64ce6ce1c3e5"
      },
      "source": [
        "sample4 = np.random.normal(69.7,3.5,36)\n",
        "ztest_Score, p_value= ztest(sample4, value = 69.7, alternative='two-sided')\n",
        "print('z = ', ztest_Score, '; p = ', p_value)\n",
        "if (p_value <  .05):\n",
        "  print(\"Có bằng chứng để bác bỏ giả thuyết H0\")\n",
        "else:\n",
        "  print(\"Chưa có bằng chứng để bác bỏ giả thuyết H0\")"
      ],
      "execution_count": 68,
      "outputs": [
        {
          "output_type": "stream",
          "text": [
            "z =  0.17209379282510948 ; p =  0.8633637925710633\n",
            "Chưa có bằng chứng để bác bỏ giả thuyết H0\n"
          ],
          "name": "stdout"
        }
      ]
    },
    {
      "cell_type": "markdown",
      "metadata": {
        "id": "LwJwjq8XY5QM"
      },
      "source": [
        "Bài 5: Does an average box of cereal contain more than 368 grams of cereal?  A random sample of 25 boxes showed $\\overline{\\rm x}$ =  372.5.  The company has specified $\\sigma$ to be 25 grams.  Test at the .05 level of significance."
      ]
    },
    {
      "cell_type": "code",
      "metadata": {
        "colab": {
          "base_uri": "https://localhost:8080/"
        },
        "id": "dFBJSMzeY5QP",
        "outputId": "28bc85c5-190c-447f-eeed-37e73b24fc5b"
      },
      "source": [
        " \n",
        "sample5 = np.random.normal(372.5,25,25)\n",
        " \n",
        "ttest_Score, p_value = st.ttest_1samp(sample5,372.5)\n",
        "print('t = ',ttest_Score,', p = ',p_value)\n",
        "if(p_value <  .05) and (ttest_Score > 0) :\n",
        "  print(\"Có bằng chứng để bác bỏ giả thuyết H0\")\n",
        "else:\n",
        "  print(\"Chưa có bằng chứng để bác bỏ giả thuyết H0\")"
      ],
      "execution_count": 72,
      "outputs": [
        {
          "output_type": "stream",
          "text": [
            "t =  -0.7321122770070552 , p =  0.47118951575462764\n",
            "Chưa có bằng chứng để bác bỏ giả thuyết H0\n"
          ],
          "name": "stdout"
        }
      ]
    },
    {
      "cell_type": "markdown",
      "metadata": {
        "id": "4H-iD-kVY5QQ"
      },
      "source": [
        "Bài 6: You’re an analyst for Ford.  You want to find out if the average miles per gallon of Escorts is at least 32 mpg. Similar models have a standard deviation of 3.8 mpg. You take a sample of 60 Escorts & compute a sample mean of 30.7 mpg. At the .01 level of significance, is there evidence that the miles per gallon is less than 32?"
      ]
    },
    {
      "cell_type": "code",
      "metadata": {
        "id": "sOehUZ7SY5QT",
        "colab": {
          "base_uri": "https://localhost:8080/"
        },
        "outputId": "8b3b3ca5-2661-4eff-f7aa-bbd469e20c0a"
      },
      "source": [
        " \n",
        "# Sinh ngẫu nhiên một mẫu 60 phần tử có trung bình mẫu là 30.7 độ lệch chuẩn là 3.8\n",
        "sample6 = np.random.normal(30.7,3.8,60)\n",
        "# Kiểm định z\n",
        "ztest_Score, p_value= ztest(sample6, value = 32, alternative='smaller')\n",
        "print('z = ', ztest_Score, '; p = ', p_value)\n",
        "if (p_value <  .01):\n",
        "  print(\"Có bằng chứng để bác bỏ giả thuyết H0\")"
      ],
      "execution_count": 73,
      "outputs": [
        {
          "output_type": "stream",
          "text": [
            "z =  -2.7764508942801975 ; p =  0.002747796796634357\n",
            "Có bằng chứng để bác bỏ giả thuyết H0\n"
          ],
          "name": "stdout"
        }
      ]
    },
    {
      "cell_type": "markdown",
      "metadata": {
        "id": "vDTVDYMsY5QV"
      },
      "source": [
        "Bài 7: Does an average box of cereal contain 368 grams of cereal?  A random sample of 25 boxes showed $\\overline{\\rm x}$ = 372.5.  The company has specified $\\sigma$ to be 15 grams.  Find the p-Value."
      ]
    },
    {
      "cell_type": "code",
      "metadata": {
        "id": "CzXC4eHuY5QX",
        "colab": {
          "base_uri": "https://localhost:8080/"
        },
        "outputId": "84b1397e-b870-45c3-dfaa-1d76e41926e3"
      },
      "source": [
        " \n",
        "# Sinh ngẫu nhiên 1 mẫu 25 phần tử có trung bình mẫu là 372.5, độ lệch chuẩn là 15\n",
        " \n",
        "sample7 = np.random.normal(372.5,15, 25)\n",
        "# Vì số phần tử n = 25 (<30) nên sử dụng kiểm định t\n",
        "ttest_Score, p_value = st.ttest_1samp(sample7, 368)\n",
        "print(' p = ',p_value)"
      ],
      "execution_count": 75,
      "outputs": [
        {
          "output_type": "stream",
          "text": [
            " p =  0.15117533169742256\n"
          ],
          "name": "stdout"
        }
      ]
    },
    {
      "cell_type": "markdown",
      "metadata": {
        "id": "wPFE5It9Y5QY"
      },
      "source": [
        "Bài 8: Does an average box of cereal contain more than 368 grams of cereal?  A random sample of 25 boxes showed $\\overline{\\rm x}$ = 372.5.  The company has specified $\\sigma$ to be 15 grams.  Find the p-Value."
      ]
    },
    {
      "cell_type": "code",
      "metadata": {
        "id": "552bLF3LY5Qa",
        "colab": {
          "base_uri": "https://localhost:8080/"
        },
        "outputId": "a99f8ea1-6742-4786-8577-2ffbf8422c9c"
      },
      "source": [
        " \n",
        "# Sinh ngẫu nhiên 1 mẫu 25 phần tử có trung bình mẫu là 372.5, độ lệch chuẩn là 15\n",
        "np.random.seed(n)\n",
        "sample8 = np.random.normal(372.5,15, 25)\n",
        "# Vì số phần tử n = 25 (<30) nên sử dụng kiểm định t\n",
        "ttest_Score, p_value = st.ttest_1samp(sample8, 368)\n",
        "print(' p = ',p_value)"
      ],
      "execution_count": 78,
      "outputs": [
        {
          "output_type": "stream",
          "text": [
            " p =  0.3234986472279451\n"
          ],
          "name": "stdout"
        }
      ]
    },
    {
      "cell_type": "markdown",
      "metadata": {
        "id": "sC96VBU9Y5Qc"
      },
      "source": [
        "Bài 9: You’re an analyst for Ford.  You want to find out if the average miles per gallon of Escorts is less than 32 mpg.   Similar models have a standard deviation of 3.8 mpg.  You take a sample of 60 Escorts & compute a sample mean of 30.7 mpg.  What is the value of the observed level of significance (p-Value)?"
      ]
    },
    {
      "cell_type": "code",
      "metadata": {
        "id": "SQPtsx0qY5Qf",
        "colab": {
          "base_uri": "https://localhost:8080/"
        },
        "outputId": "e5fecf17-0071-47d9-86a8-f3b64087f417"
      },
      "source": [
        " \n",
        "np.random.seed(n)\n",
        "# Sinh ngẫu nhiên một mẫu 60 phần tử có trung bình mẫu là 30.7 độ lệch chuẩn là 3.8\n",
        "sample9 = np.random.normal(30.7,3.8,60)\n",
        "# Kiểm định z\n",
        "ztest_Score, p_value= ztest(sample9, value = 32, alternative='smaller')\n",
        "print('z = ', ztest_Score, '; p = ', p_value)"
      ],
      "execution_count": 80,
      "outputs": [
        {
          "output_type": "stream",
          "text": [
            "z =  -2.7764508942801975 ; p =  0.002747796796634357\n"
          ],
          "name": "stdout"
        }
      ]
    },
    {
      "cell_type": "markdown",
      "metadata": {
        "id": "C4wU8xuKY5Qg"
      },
      "source": [
        "Bài 10: Does an average box of cereal contain 368 grams of cereal?  A random sample of 36 boxes had a mean of 372.5 and a standard deviation of 12 grams. Test at the .05 level of significance."
      ]
    },
    {
      "cell_type": "code",
      "metadata": {
        "id": "zVOHBkoyY5Qi",
        "colab": {
          "base_uri": "https://localhost:8080/"
        },
        "outputId": "215ff304-6afa-4240-ab62-8ddd52d7fef5"
      },
      "source": [
        " \n",
        "np.random.seed(n)\n",
        "sample10 = np.random.normal(372.5, 12, 36)\n",
        "# Kiểm định z\n",
        "ztest_Score, p_value= ztest(sample10, value = 368, alternative='two-sided')\n",
        "print('z = ', ztest_Score, '; p = ', p_value)\n",
        "if(p_value <  .05):\n",
        "  print(\"Có bằng chứng để bác bỏ giả thuyết H0\")\n",
        "else:\n",
        "  print(\"Chưa có bằng chứng để bác bỏ giả thuyết H0\")"
      ],
      "execution_count": 83,
      "outputs": [
        {
          "output_type": "stream",
          "text": [
            "z =  0.7872015191391006 ; p =  0.43116390809192284\n",
            "Chưa có bằng chứng để bác bỏ giả thuyết H0\n"
          ],
          "name": "stdout"
        }
      ]
    },
    {
      "cell_type": "markdown",
      "metadata": {
        "id": "Piek7onuY5Qk"
      },
      "source": [
        "Bài 11: You work for the FTC.  A manufacturer of detergent claims that the mean weight of detergent is 3.25 lb.  You take a random sample of 64 containers.  You calculate the sample average to be 3.238 lb. with a standard deviation of .117 lb.  At the .01 level of significance, is the manufacturer correct?"
      ]
    },
    {
      "cell_type": "code",
      "metadata": {
        "id": "QJ4_5LPoY5Qm",
        "colab": {
          "base_uri": "https://localhost:8080/"
        },
        "outputId": "489905c0-2daf-4aa6-fdad-b311bd324280"
      },
      "source": [
        " \n",
        "#Sinh ngẫu nhiên một mẫu 64 phần tử có trung bình mẫu là 3.238, độ lệch chuẩn là 0.117\n",
        "sample11 = np.random.normal(3.238, 0.117, 64)\n",
        "ztest_Score, p_value= ztest(sample11, value = 3.25, alternative='larger')\n",
        "print('z = ', ztest_Score, '; p = ', p_value)\n",
        "if (p_value <  .01/2):\n",
        "  print(\"Có bằng chứng để bác bỏ giả thuyết H0\")\n",
        "else:\n",
        "  print(\"Chưa có bằng chứng để bác bỏ giả thuyết H0\")"
      ],
      "execution_count": 89,
      "outputs": [
        {
          "output_type": "stream",
          "text": [
            "z =  0.48904966462163446 ; p =  0.312403268079486\n",
            "Chưa có bằng chứng để bác bỏ giả thuyết H0\n"
          ],
          "name": "stdout"
        }
      ]
    },
    {
      "cell_type": "markdown",
      "metadata": {
        "id": "mZM3w63fY5Qn"
      },
      "source": [
        "Bài 12: Is the average capacity of batteries less than 140 ampere-hours?  A random sample of 20 batteries had a mean of 138.47 and a standard deviation of 2.66.  Assume a normal distribution. Test at the .05 level of significance."
      ]
    },
    {
      "cell_type": "code",
      "metadata": {
        "id": "LHo-pvjjY5Qp",
        "colab": {
          "base_uri": "https://localhost:8080/"
        },
        "outputId": "a62634ec-c581-4a3e-e21b-d25429a466f5"
      },
      "source": [
        " \n",
        "#Sinh ngẫu nhiên một mẫu 20 phần tử có trung bình mẫu là 138.47, độ lệch chuẩn là 2.66\n",
        "sample12 = np.random.normal(138.47, 2.66, 20)\n",
        "#Kiểm định t\n",
        "ttest_Score, p_value = st.ttest_1samp(sample12, 140)\n",
        "print('t = ',ttest_Score,', p = ',p_value)\n",
        "if(p_value <  .05) and (ttest_Score>0):\n",
        "  print(\"Có bằng chứng để bác bỏ giả thuyết H0\")\n",
        "else:\n",
        "  print(\"Chưa có bằng chứng để bác bỏ giả thuyết H0\")"
      ],
      "execution_count": 87,
      "outputs": [
        {
          "output_type": "stream",
          "text": [
            "t =  -2.1022509955304765 , p =  0.04909499252547421\n",
            "Chưa có bằng chứng để bác bỏ giả thuyết H0\n"
          ],
          "name": "stdout"
        }
      ]
    },
    {
      "cell_type": "markdown",
      "metadata": {
        "id": "3ziHhXODY5Qq"
      },
      "source": [
        "Bài 13: You’re a marketing analyst for Wal-Mart.  Wal-Mart had teddy bears on sale last week.  The weekly sales of bears sold in 10 stores was: 8  11  0   4   7   8   10   5   8   3. At the .05 level of significance, is there evidence that the average bear sales per store is more than 5?"
      ]
    },
    {
      "cell_type": "code",
      "metadata": {
        "id": "kEcaUyPdY5Qs",
        "colab": {
          "base_uri": "https://localhost:8080/"
        },
        "outputId": "021b681d-c9c3-4ac9-c5aa-5a4bc8a144d7"
      },
      "source": [
        "sample13 = np.array([8,11,0,4,7,8,10,5,8,3])\n",
        "#Kiểm định t\n",
        "ttest_Score, p_value = st.ttest_1samp(sample13, 5)\n",
        "print('t = ',ttest_Score,', p = ',p_value)\n",
        "if(p_value <  .05) and (ttest_Score > 0):\n",
        "  print(\"Có bằng chứng để bác bỏ giả thuyết H0\")\n",
        "else:\n",
        "  print(\"Chưa có bằng chứng để bác bỏ giả thuyết H0\")"
      ],
      "execution_count": 85,
      "outputs": [
        {
          "output_type": "stream",
          "text": [
            "t =  1.3125000000000004 , p =  0.2218341554238571\n",
            "Chưa có bằng chứng để bác bỏ giả thuyết H0\n"
          ],
          "name": "stdout"
        }
      ]
    },
    {
      "cell_type": "code",
      "metadata": {
        "id": "bXbF4PJSY5Qt"
      },
      "source": [
        ""
      ],
      "execution_count": null,
      "outputs": []
    }
  ]
}