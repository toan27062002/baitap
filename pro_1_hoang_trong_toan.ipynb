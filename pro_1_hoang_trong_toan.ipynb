{
  "nbformat": 4,
  "nbformat_minor": 0,
  "metadata": {
    "colab": {
      "name": "pro_1_hoang_trong_toan.ipynb",
      "provenance": [],
      "authorship_tag": "ABX9TyObAnUgsAfQG8LVr7Ys2zFL",
      "include_colab_link": true
    },
    "kernelspec": {
      "name": "python3",
      "display_name": "Python 3"
    },
    "language_info": {
      "name": "python"
    }
  },
  "cells": [
    {
      "cell_type": "markdown",
      "metadata": {
        "id": "view-in-github",
        "colab_type": "text"
      },
      "source": [
        "<a href=\"https://colab.research.google.com/github/toan27062002/baitap/blob/main/pro_1_hoang_trong_toan.ipynb\" target=\"_parent\"><img src=\"https://colab.research.google.com/assets/colab-badge.svg\" alt=\"Open In Colab\"/></a>"
      ]
    },
    {
      "cell_type": "code",
      "metadata": {
        "id": "YewURONNCRaO"
      },
      "source": [
        "import numpy as np\n",
        "from scipy import stats \n"
      ],
      "execution_count": 161,
      "outputs": []
    },
    {
      "cell_type": "code",
      "metadata": {
        "id": "dMMFB-AqSJ8C"
      },
      "source": [
        "class pro:\n",
        "    def __init__(self,len_arr):\n",
        "        self.len_arr = len_arr\n",
        "\n",
        "\n",
        "    def cal(self):\n",
        "        arr = []\n",
        "        for i in range(self.len_arr):\n",
        "            arr.append(np.random.randint(-100000,100000))               \n",
        "        print(\"matrix = \", arr)\n",
        "        print(\"mean = \", np.mean(arr, axis=0))\n",
        "        print(\"mode = \", stats.mode(arr, axis=0)[0][0])\n",
        "        print(\"variance = \", np.var(arr, axis=0))\n",
        "        print(\"standard deviation = \", np.std(arr, axis=0))\n"
      ],
      "execution_count": 162,
      "outputs": []
    },
    {
      "cell_type": "code",
      "metadata": {
        "colab": {
          "base_uri": "https://localhost:8080/"
        },
        "id": "ruy_SfhJbIQu",
        "outputId": "8cdf057f-f327-413c-f71b-0512f423cc73"
      },
      "source": [
        "while True:\n",
        "    try:\n",
        "        n = int(input(\"enter the number of elements: \"))  \n",
        "    except:\n",
        "        print(\"re-enter the element number!!!\")\n",
        "    if n>0:\n",
        "        break\n",
        "    else:\n",
        "        print(\"re-enter the element number!!!\")"
      ],
      "execution_count": 163,
      "outputs": [
        {
          "output_type": "stream",
          "text": [
            "enter the number of elements: 30\n"
          ],
          "name": "stdout"
        }
      ]
    },
    {
      "cell_type": "code",
      "metadata": {
        "id": "HbUF-VlXTtTR"
      },
      "source": [
        "cal1 = pro(n)\n",
        "cal2 = pro(n)"
      ],
      "execution_count": 164,
      "outputs": []
    },
    {
      "cell_type": "code",
      "metadata": {
        "colab": {
          "base_uri": "https://localhost:8080/"
        },
        "id": "TasWGEtBf_lF",
        "outputId": "f8fdfec0-eeb9-4c02-be15-5105acb11b88"
      },
      "source": [
        "cal1.cal()\n",
        "print(\"-\"*500)\n",
        "cal2.cal()"
      ],
      "execution_count": 165,
      "outputs": [
        {
          "output_type": "stream",
          "text": [
            "matrix =  [93327, -40419, -34566, 77372, -62005, 17542, 21421, -45370, -88496, -41451, 31124, -79246, -86223, -45303, 29822, 73651, 12651, 63290, -54537, 99610, -4666, 85022, -85617, -95637, -37091, 60625, 46839, -98229, -13931, -60714]\n",
            "mean =  -8706.833333333334\n",
            "mode =  -98229\n",
            "variance =  3869424259.472222\n",
            "standard deviation =  62204.69644224801\n",
            "--------------------------------------------------------------------------------------------------------------------------------------------------------------------------------------------------------------------------------------------------------------------------------------------------------------------------------------------------------------------------------------------------------------------------------------------------------------------------------------------------------------------\n",
            "matrix =  [-96029, 14251, -83660, -39120, 50832, 79332, -52921, -77113, -30055, -74149, 19393, -15120, 51640, 40345, 82489, 67876, -33349, 97051, -42540, -68143, 74689, -91676, -13316, -96029, -95937, -55068, -47789, 1156, -37477, 48237]\n",
            "mean =  -14073.333333333334\n",
            "mode =  -96029\n",
            "variance =  3698923105.222222\n",
            "standard deviation =  60818.77263824239\n"
          ],
          "name": "stdout"
        }
      ]
    }
  ]
}