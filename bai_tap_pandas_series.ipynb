{
  "nbformat": 4,
  "nbformat_minor": 0,
  "metadata": {
    "kernelspec": {
      "display_name": "Python 3",
      "language": "python",
      "name": "python3"
    },
    "language_info": {
      "codemirror_mode": {
        "name": "ipython",
        "version": 3
      },
      "file_extension": ".py",
      "mimetype": "text/x-python",
      "name": "python",
      "nbconvert_exporter": "python",
      "pygments_lexer": "ipython3",
      "version": "3.7.3"
    },
    "colab": {
      "name": " bai-tap-pandas-series.ipynb",
      "provenance": [],
      "collapsed_sections": [],
      "include_colab_link": true
    }
  },
  "cells": [
    {
      "cell_type": "markdown",
      "metadata": {
        "id": "view-in-github",
        "colab_type": "text"
      },
      "source": [
        "<a href=\"https://colab.research.google.com/github/toan27062002/baitap/blob/main/bai_tap_pandas_series.ipynb\" target=\"_parent\"><img src=\"https://colab.research.google.com/assets/colab-badge.svg\" alt=\"Open In Colab\"/></a>"
      ]
    },
    {
      "cell_type": "markdown",
      "metadata": {
        "id": "kjatcwE3h5Ga"
      },
      "source": [
        "Câu 1: Hãy tạo 1 đối tượng kiểu Series có tối thiểu 10 phần tử (kiểu số) với giá trị tùy ý thích của bạn. \n",
        "       In giá trị của Series đó ra màn hình"
      ]
    },
    {
      "cell_type": "code",
      "metadata": {
        "id": "cP8BTl-ah5HL"
      },
      "source": [
        "import pandas as pd\n",
        "import numpy as np"
      ],
      "execution_count": null,
      "outputs": []
    },
    {
      "cell_type": "code",
      "metadata": {
        "colab": {
          "base_uri": "https://localhost:8080/"
        },
        "id": "4vuC9AGWiQrI",
        "outputId": "ac758b93-4ea9-45d0-a78d-c9829add531e"
      },
      "source": [
        "c1 = pd.Series([1,3,2,7,8,6,8,9,0,4])\n",
        "c1"
      ],
      "execution_count": null,
      "outputs": [
        {
          "output_type": "execute_result",
          "data": {
            "text/plain": [
              "0    1\n",
              "1    3\n",
              "2    2\n",
              "3    7\n",
              "4    8\n",
              "5    6\n",
              "6    8\n",
              "7    9\n",
              "8    0\n",
              "9    4\n",
              "dtype: int64"
            ]
          },
          "metadata": {
            "tags": []
          },
          "execution_count": 20
        }
      ]
    },
    {
      "cell_type": "markdown",
      "metadata": {
        "id": "GgKER3x2h5HR"
      },
      "source": [
        "Câu 2: Hãy tạo 1 đối tượng kiểu Series với giá trị khởi tạo hình thành từ dữ liệu kiểu Dictionary. In kết quả ra màn hình"
      ]
    },
    {
      "cell_type": "code",
      "metadata": {
        "colab": {
          "base_uri": "https://localhost:8080/"
        },
        "id": "G1iNLFKFjNWO",
        "outputId": "368b7e13-87bf-4a93-ef8a-f97ce9d5b4c4"
      },
      "source": [
        "dic2 = {'hs1': 9, 'hs2': 10, 'hs3': 5, 'hs4': 7, 'hs5': 2}\n",
        "c2 = pd.Series(dic2)\n",
        "c2"
      ],
      "execution_count": null,
      "outputs": [
        {
          "output_type": "execute_result",
          "data": {
            "text/plain": [
              "hs1     9\n",
              "hs2    10\n",
              "hs3     5\n",
              "hs4     7\n",
              "hs5     2\n",
              "dtype: int64"
            ]
          },
          "metadata": {
            "tags": []
          },
          "execution_count": 21
        }
      ]
    },
    {
      "cell_type": "markdown",
      "metadata": {
        "id": "Q5kghJLuh5HW"
      },
      "source": [
        "Câu 3: Sử dụng series ở câu 1, hãy thay đổi giá trị của cột index từ kiểu số theo kiểu ký tự với giá trị do bạn tự xác định."
      ]
    },
    {
      "cell_type": "code",
      "metadata": {
        "id": "rkEWepxWh5HZ",
        "colab": {
          "base_uri": "https://localhost:8080/"
        },
        "outputId": "df2848a3-2dd9-4e9f-8793-5d593525ade3"
      },
      "source": [
        "c1.index = ['hs1','hs2','hs3','hs4','hs5','hs6','hs7','hs8','hs9','hs10']\n",
        "c1"
      ],
      "execution_count": null,
      "outputs": [
        {
          "output_type": "execute_result",
          "data": {
            "text/plain": [
              "hs1     1\n",
              "hs2     3\n",
              "hs3     2\n",
              "hs4     7\n",
              "hs5     8\n",
              "hs6     6\n",
              "hs7     8\n",
              "hs8     9\n",
              "hs9     0\n",
              "hs10    4\n",
              "dtype: int64"
            ]
          },
          "metadata": {
            "tags": []
          },
          "execution_count": 22
        }
      ]
    },
    {
      "cell_type": "markdown",
      "metadata": {
        "id": "iZGSUsP9h5Hb"
      },
      "source": [
        "Câu 4: Sử dụng series ở câu 2, hãy truy cập đến phần tử thứ 5 và in ra màn hình"
      ]
    },
    {
      "cell_type": "code",
      "metadata": {
        "id": "7x-A4D7Yh5Hd",
        "colab": {
          "base_uri": "https://localhost:8080/"
        },
        "outputId": "5cbd6988-2792-42b8-a0ff-88f9ab961d99"
      },
      "source": [
        "c2[4]"
      ],
      "execution_count": null,
      "outputs": [
        {
          "output_type": "execute_result",
          "data": {
            "text/plain": [
              "2"
            ]
          },
          "metadata": {
            "tags": []
          },
          "execution_count": 23
        }
      ]
    },
    {
      "cell_type": "markdown",
      "metadata": {
        "id": "tjoWOusKh5Hg"
      },
      "source": [
        "Câu 5: Sử dụng series ở câu 3, hãy truy cập đến 1 phần tử dựa theo chỉ số kiểu ký tự do bạn lựa chọn và in ra màn hình"
      ]
    },
    {
      "cell_type": "code",
      "metadata": {
        "id": "VYYT-gz8h5Hi",
        "colab": {
          "base_uri": "https://localhost:8080/"
        },
        "outputId": "1e378d80-b511-41bd-f865-8d757228dee8"
      },
      "source": [
        "c1['hs9']"
      ],
      "execution_count": null,
      "outputs": [
        {
          "output_type": "execute_result",
          "data": {
            "text/plain": [
              "0"
            ]
          },
          "metadata": {
            "tags": []
          },
          "execution_count": 25
        }
      ]
    },
    {
      "cell_type": "markdown",
      "metadata": {
        "id": "iM59xZrfh5Hl"
      },
      "source": [
        "Câu 6: Sử dụng series ở câu 3, hãy tìm ra tính chất đặc thù trong các chỉ số kiểu kí tự, thực hiện vòng lặp for duyệt trên các chỉ mục kiểu kí tự này để lọc ra những phần tử thỏa mãn điều kiện và in ra màn hình"
      ]
    },
    {
      "cell_type": "code",
      "metadata": {
        "id": "xJbDnrJkh5Hn",
        "colab": {
          "base_uri": "https://localhost:8080/"
        },
        "outputId": "f721cfe4-9dc1-4f79-e439-f6ea7acb9195"
      },
      "source": [
        "c1[[name.endswith('9') for name in c1.index]]"
      ],
      "execution_count": null,
      "outputs": [
        {
          "output_type": "execute_result",
          "data": {
            "text/plain": [
              "hs9    0\n",
              "dtype: int64"
            ]
          },
          "metadata": {
            "tags": []
          },
          "execution_count": 28
        }
      ]
    },
    {
      "cell_type": "markdown",
      "metadata": {
        "id": "xtnyAcTmh5Hp"
      },
      "source": [
        "Câu 7: Sử dụng series ở câu 1, hãy đổi tên cột index thành 'STT' và đặt tên cho series là 'Gia_tri'. In kết quả ra màn hình "
      ]
    },
    {
      "cell_type": "code",
      "metadata": {
        "id": "aEu94PlUh5Hr",
        "colab": {
          "base_uri": "https://localhost:8080/"
        },
        "outputId": "58eb4307-e483-4e89-e334-d150c401aff0"
      },
      "source": [
        "c1.name = 'Gia_tri'\n",
        "c1.index.name= 'STT'\n",
        "c1"
      ],
      "execution_count": null,
      "outputs": [
        {
          "output_type": "execute_result",
          "data": {
            "text/plain": [
              "STT\n",
              "hs1     1\n",
              "hs2     3\n",
              "hs3     2\n",
              "hs4     7\n",
              "hs5     8\n",
              "hs6     6\n",
              "hs7     8\n",
              "hs8     9\n",
              "hs9     0\n",
              "hs10    4\n",
              "Name: Gia_tri, dtype: int64"
            ]
          },
          "metadata": {
            "tags": []
          },
          "execution_count": 30
        }
      ]
    },
    {
      "cell_type": "markdown",
      "metadata": {
        "id": "-6g_DjgEh5Ht"
      },
      "source": [
        "Câu 8: Hãy áp dụng hàm logarith của gói numpy với series ở câu 1 và in kết quả ra màn hình"
      ]
    },
    {
      "cell_type": "code",
      "metadata": {
        "id": "VPQepzxCh5Hv",
        "colab": {
          "base_uri": "https://localhost:8080/"
        },
        "outputId": "62dbe94d-4c4c-4714-cb68-52fae902ff6e"
      },
      "source": [
        "c1.apply(np.log)"
      ],
      "execution_count": null,
      "outputs": [
        {
          "output_type": "execute_result",
          "data": {
            "text/plain": [
              "STT\n",
              "hs1     0.000000\n",
              "hs2     1.098612\n",
              "hs3     0.693147\n",
              "hs4     1.945910\n",
              "hs5     2.079442\n",
              "hs6     1.791759\n",
              "hs7     2.079442\n",
              "hs8     2.197225\n",
              "hs9         -inf\n",
              "hs10    1.386294\n",
              "Name: Gia_tri, dtype: float64"
            ]
          },
          "metadata": {
            "tags": []
          },
          "execution_count": 31
        }
      ]
    },
    {
      "cell_type": "markdown",
      "metadata": {
        "id": "iHFVNFNah5Hx"
      },
      "source": [
        "Câu 9: Lọc các giá trị của series 1 > 15 và in ra màn hình"
      ]
    },
    {
      "cell_type": "code",
      "metadata": {
        "id": "WZ9yWWm6h5Hz",
        "colab": {
          "base_uri": "https://localhost:8080/"
        },
        "outputId": "144757af-7acb-48a3-c22d-79c074b49a68"
      },
      "source": [
        "c1[c1>15]"
      ],
      "execution_count": null,
      "outputs": [
        {
          "output_type": "execute_result",
          "data": {
            "text/plain": [
              "Series([], Name: Gia_tri, dtype: int64)"
            ]
          },
          "metadata": {
            "tags": []
          },
          "execution_count": 32
        }
      ]
    }
  ]
}