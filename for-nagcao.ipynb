{
  "nbformat": 4,
  "nbformat_minor": 0,
  "metadata": {
    "colab": {
      "name": "Untitled7.ipynb",
      "provenance": [],
      "authorship_tag": "ABX9TyM2kzrUTt/L00Eo/pExqlU9",
      "include_colab_link": true
    },
    "kernelspec": {
      "name": "python3",
      "display_name": "Python 3"
    }
  },
  "cells": [
    {
      "cell_type": "markdown",
      "metadata": {
        "id": "view-in-github",
        "colab_type": "text"
      },
      "source": [
        "<a href=\"https://colab.research.google.com/github/toan27062002/baitap/blob/main/for-nagcao.ipynb\" target=\"_parent\"><img src=\"https://colab.research.google.com/assets/colab-badge.svg\" alt=\"Open In Colab\"/></a>"
      ]
    },
    {
      "cell_type": "code",
      "metadata": {
        "id": "rvVGU7XaKjKT"
      },
      "source": [
        "list2 = [({'name': 'Peter', 'age':2}, {'name': 'John', 'age':21}), \n",
        "         ({'name': 'Mary', 'age':2}, {'name': 'Trandanpro', 'age':21}), \n",
        "         ({'name': 'Nam', 'age':2}, {'name': 'Hung', 'age':21}), \n",
        "         ({'name': 'Mai', 'age':2}, {'name': 'Loan', 'age':21})]\n",
        "for a,b in  enumerate(list2):\n",
        "    for c,d in enumerate(b):\n",
        "        for x in d:\n",
        "            print(\"Tup:\",a+1,\"- Dict\",c+1,\"-\",x,\":\",d.get(x))"
      ],
      "execution_count": null,
      "outputs": []
    }
  ]
}