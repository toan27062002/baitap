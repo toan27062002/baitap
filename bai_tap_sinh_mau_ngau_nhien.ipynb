{
  "nbformat": 4,
  "nbformat_minor": 0,
  "metadata": {
    "kernelspec": {
      "display_name": "Python 3",
      "language": "python",
      "name": "python3"
    },
    "language_info": {
      "codemirror_mode": {
        "name": "ipython",
        "version": 3
      },
      "file_extension": ".py",
      "mimetype": "text/x-python",
      "name": "python",
      "nbconvert_exporter": "python",
      "pygments_lexer": "ipython3",
      "version": "3.7.3"
    },
    "colab": {
      "name": "bai-tap-sinh-mau-ngau-nhien.ipynb",
      "provenance": [],
      "include_colab_link": true
    }
  },
  "cells": [
    {
      "cell_type": "markdown",
      "metadata": {
        "id": "view-in-github",
        "colab_type": "text"
      },
      "source": [
        "<a href=\"https://colab.research.google.com/github/toan27062002/baitap/blob/main/bai_tap_sinh_mau_ngau_nhien.ipynb\" target=\"_parent\"><img src=\"https://colab.research.google.com/assets/colab-badge.svg\" alt=\"Open In Colab\"/></a>"
      ]
    },
    {
      "cell_type": "markdown",
      "metadata": {
        "id": "T2hK-yosW8mo"
      },
      "source": [
        "Sử dụng thư viện Numpy\n",
        "\n",
        "1. Sinh mẫu ngẫu nhiên bằng hàm arange trong khoảng [-15, 27] với khoảng cách là 0.7 và in kết quả ra màn hình"
      ]
    },
    {
      "cell_type": "code",
      "metadata": {
        "id": "qOaZ2PW7W8mp"
      },
      "source": [
        "import numpy as np"
      ],
      "execution_count": 1,
      "outputs": []
    },
    {
      "cell_type": "code",
      "metadata": {
        "id": "_QN7q32FXHjq",
        "outputId": "02a83b03-7b1c-4f95-dc36-f99efc8dceb8",
        "colab": {
          "base_uri": "https://localhost:8080/"
        }
      },
      "source": [
        "r1 = np.arange(-15, 27, 0.7)\n",
        "print(r1)"
      ],
      "execution_count": 2,
      "outputs": [
        {
          "output_type": "stream",
          "text": [
            "[-15.  -14.3 -13.6 -12.9 -12.2 -11.5 -10.8 -10.1  -9.4  -8.7  -8.   -7.3\n",
            "  -6.6  -5.9  -5.2  -4.5  -3.8  -3.1  -2.4  -1.7  -1.   -0.3   0.4   1.1\n",
            "   1.8   2.5   3.2   3.9   4.6   5.3   6.    6.7   7.4   8.1   8.8   9.5\n",
            "  10.2  10.9  11.6  12.3  13.   13.7  14.4  15.1  15.8  16.5  17.2  17.9\n",
            "  18.6  19.3  20.   20.7  21.4  22.1  22.8  23.5  24.2  24.9  25.6  26.3\n",
            "  27. ]\n"
          ],
          "name": "stdout"
        }
      ]
    },
    {
      "cell_type": "markdown",
      "metadata": {
        "id": "YYWHIuJfW8mq"
      },
      "source": [
        "2. Sinh mẫu ngẫu nhiên theo phân phối chuẩn với mean = 2.7 std = 1.2 và size = 40\n",
        "In kết quả ra màn hình"
      ]
    },
    {
      "cell_type": "code",
      "metadata": {
        "id": "1p8a6-iHW8mq",
        "outputId": "0e01c579-7f58-4610-9651-0f5854472016",
        "colab": {
          "base_uri": "https://localhost:8080/"
        }
      },
      "source": [
        "r2 = np.random.normal(loc=2.7, scale=1.2, size=40)\n",
        "print(r2)"
      ],
      "execution_count": 3,
      "outputs": [
        {
          "output_type": "stream",
          "text": [
            "[3.0754244  3.55242616 1.25477202 0.77142587 2.40373562 3.20827314\n",
            " 2.74668232 2.80389671 4.05790006 2.32119018 1.45343807 4.60141433\n",
            " 2.97912451 0.25140229 1.71583461 3.09021926 2.28055307 2.49944153\n",
            " 2.749485   2.74994968 2.50554546 4.39534081 4.41675329 2.87955819\n",
            " 1.11651958 0.88737915 2.27204601 2.69622856 2.55805145 4.35829768\n",
            " 0.87817092 5.53280892 3.95313181 2.92859373 3.16906305 0.87657706\n",
            " 2.16649789 1.87827449 3.82657992 3.50494569]\n"
          ],
          "name": "stdout"
        }
      ]
    },
    {
      "cell_type": "markdown",
      "metadata": {
        "id": "Kkat11hWW8mr"
      },
      "source": [
        "3. Sinh mẫu ngẫu nhiên từ vector ['Viet Nam', 'Britain', 'France', 'Russia', 'Singapore'] \n",
        "\n",
        "với kích thước là 17 theo phân phối chuẩn"
      ]
    },
    {
      "cell_type": "code",
      "metadata": {
        "id": "s-5ELa_gW8mr",
        "outputId": "f9609b5a-de3f-4f36-a632-d6155e2e9071",
        "colab": {
          "base_uri": "https://localhost:8080/"
        }
      },
      "source": [
        "r3 = np.random.choice(['Viet Nam', 'Britain', 'France', 'Russia', 'Singapore'], 17)\n",
        "print(r3)"
      ],
      "execution_count": 5,
      "outputs": [
        {
          "output_type": "stream",
          "text": [
            "['Britain' 'France' 'France' 'Britain' 'Viet Nam' 'France' 'Russia'\n",
            " 'France' 'Singapore' 'Russia' 'Russia' 'Britain' 'Russia' 'Singapore'\n",
            " 'Russia' 'France' 'Russia']\n"
          ],
          "name": "stdout"
        }
      ]
    },
    {
      "cell_type": "markdown",
      "metadata": {
        "id": "UWm9R5LZW8mr"
      },
      "source": [
        "4. Sinh mẫu ngẫu nhiên ở câu 3 nhưng không theo phân phối chuẩn mà theo 1 vector đặc tả giá trị xác suất do bạn chọn"
      ]
    },
    {
      "cell_type": "code",
      "metadata": {
        "id": "0S56Fm11W8mr",
        "outputId": "0ddc730b-7b79-4846-f659-fd4a58dcb55d",
        "colab": {
          "base_uri": "https://localhost:8080/"
        }
      },
      "source": [
        "r4 = np.random.choice(['Viet Nam', 'Britain', 'France', 'Russia', 'Singapore'], 10, p=[0.7, 0.1, 0.1, 0.05, 0.05])\n",
        "print(r4)\n"
      ],
      "execution_count": 10,
      "outputs": [
        {
          "output_type": "stream",
          "text": [
            "['Viet Nam' 'Viet Nam' 'Viet Nam' 'Russia' 'Viet Nam' 'Viet Nam' 'France'\n",
            " 'Viet Nam' 'Viet Nam' 'Viet Nam']\n"
          ],
          "name": "stdout"
        }
      ]
    },
    {
      "cell_type": "markdown",
      "metadata": {
        "id": "qGROlQ4lW8ms"
      },
      "source": [
        "Sử dụng thư việc scipy.stats để sinh mẫu ngẫu nhiên\n",
        "\n",
        "1. Sinh mẫu ngẫu nhiên theo phân phối chuẩn với mean = 12.7, std = 2.6 và size = 30. In kết quả ra màn hình"
      ]
    },
    {
      "cell_type": "code",
      "metadata": {
        "id": "mC6gQE-NW8ms"
      },
      "source": [
        "from scipy import stats"
      ],
      "execution_count": 11,
      "outputs": []
    },
    {
      "cell_type": "code",
      "metadata": {
        "id": "6xlpp9lfZfto",
        "outputId": "7739f3d6-b70f-4d8c-9e47-166f6108c19e",
        "colab": {
          "base_uri": "https://localhost:8080/"
        }
      },
      "source": [
        "r5 = stats.norm.rvs(loc = 12.7, scale = 2.6, size = 30)\n",
        "print(r5)"
      ],
      "execution_count": 12,
      "outputs": [
        {
          "output_type": "stream",
          "text": [
            "[13.75668697 16.37341494 12.80894625  8.50815953 15.87595132 13.41963386\n",
            " 15.33119107  9.31292408  9.15144495 15.02739322 12.1435104   8.69727469\n",
            " 12.31839148 10.00905933 13.16818398 11.47549904 10.4245336  11.66143849\n",
            "  9.31425404 13.63694054 13.35258942 11.40805848 10.37084546 13.95533733\n",
            " 13.63940493 13.51392956 13.59546244 11.49402657 15.88331015  8.63971343]\n"
          ],
          "name": "stdout"
        }
      ]
    },
    {
      "cell_type": "markdown",
      "metadata": {
        "id": "2TRPgV83W8ms"
      },
      "source": [
        "2. Hãy sinh một mẫu ngẫu nhiên theo phân phối Poisson"
      ]
    },
    {
      "cell_type": "code",
      "metadata": {
        "id": "n90DIYIvW8ms",
        "outputId": "3928d8ca-2663-42f9-dd9b-7bade89abff8",
        "colab": {
          "base_uri": "https://localhost:8080/"
        }
      },
      "source": [
        "r6 = stats.poisson.rvs(loc=18, mu=30, size=100)\n",
        "print(r6)"
      ],
      "execution_count": 15,
      "outputs": [
        {
          "output_type": "stream",
          "text": [
            "[50 48 37 54 49 57 56 45 54 47 48 47 48 47 44 47 50 42 42 43 51 44 43 50\n",
            " 48 55 59 49 43 59 52 44 46 50 50 47 45 57 48 45 52 48 47 49 49 51 37 53\n",
            " 41 47 44 46 53 48 46 50 44 50 50 47 51 45 46 49 41 52 44 41 44 41 44 43\n",
            " 57 53 55 39 43 40 37 48 48 53 54 54 43 49 54 49 46 49 43 46 41 54 52 46\n",
            " 51 52 39 56]\n"
          ],
          "name": "stdout"
        }
      ]
    }
  ]
}