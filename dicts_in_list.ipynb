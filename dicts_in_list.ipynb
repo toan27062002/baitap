{
  "nbformat": 4,
  "nbformat_minor": 0,
  "metadata": {
    "colab": {
      "name": "Untitled8.ipynb",
      "provenance": [],
      "authorship_tag": "ABX9TyMJEUHS7lIYIerVzGdW8/Yu",
      "include_colab_link": true
    },
    "kernelspec": {
      "name": "python3",
      "display_name": "Python 3"
    }
  },
  "cells": [
    {
      "cell_type": "markdown",
      "metadata": {
        "id": "view-in-github",
        "colab_type": "text"
      },
      "source": [
        "<a href=\"https://colab.research.google.com/github/toan27062002/baitap/blob/main/dicts_in_list.ipynb\" target=\"_parent\"><img src=\"https://colab.research.google.com/assets/colab-badge.svg\" alt=\"Open In Colab\"/></a>"
      ]
    },
    {
      "cell_type": "code",
      "metadata": {
        "id": "CYzDVSzBI3Za"
      },
      "source": [
        "import random, string\n",
        "list=[]\n",
        "k=random.randint(50,101)# số phần tử trong dict\n",
        "for j in range(k):\n",
        "    n = random.randint(1,12)\n",
        "    ten = random.choice(string.ascii_letters)#tạo tên\n",
        "    for i in range(n):\n",
        "        ten += random.choice(string.ascii_lowercase)\n",
        "        ten=str.capitalize (name)\n",
        "    tuoi = random.randint(0, 125)# tạo tuổi\n",
        "    list.append(dict(name=ten,age=tuoi))\n",
        "print(\"list mới được tạo là: \\n\", list)"
      ],
      "execution_count": null,
      "outputs": []
    },
    {
      "cell_type": "code",
      "metadata": {
        "id": "ITNI_Q7dLjzW"
      },
      "source": [
        ""
      ],
      "execution_count": null,
      "outputs": []
    }
  ]
}